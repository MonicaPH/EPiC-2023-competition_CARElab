{
 "cells": [
  {
   "cell_type": "markdown",
   "metadata": {},
   "source": [
    "# Libraries"
   ]
  },
  {
   "cell_type": "code",
   "execution_count": null,
   "metadata": {},
   "outputs": [],
   "source": [
    "import pandas as pd\n",
    "from pathlib import Path\n",
    "import matplotlib.pyplot as plt\n",
    "import neurokit2 as nk\n",
    "\n",
    "import sys, os\n",
    "sys.path.append(os.path.relpath(\"../src/\"))\n",
    "import emg"
   ]
  },
  {
   "cell_type": "markdown",
   "metadata": {},
   "source": [
    "# Functions"
   ]
  },
  {
   "cell_type": "code",
   "execution_count": null,
   "metadata": {},
   "outputs": [],
   "source": [
    "## Load data functions\n",
    "\n",
    "def load_data_no_folds(scenario_dir_path, dataset_type):\n",
    "    # make dict to store data\n",
    "    storage_list = list()\n",
    "    # make paths for the specified dataset\n",
    "    train_annotations_dir = Path(scenario_dir_path, dataset_type, \"annotations\")\n",
    "    train_physiology_dir = Path(scenario_dir_path, dataset_type, \"physiology\")\n",
    "    # sort contents of dirs, so that physiology and annotations are in the same order  \n",
    "    train_physiology_files = sorted(Path(train_physiology_dir).iterdir())\n",
    "    train_annotation_files = sorted(Path(train_annotations_dir).iterdir())\n",
    "    # iterate over annotation and physiology files\n",
    "    for physiology_file_path, annotations_file_path in zip(train_physiology_files, train_annotation_files):\n",
    "        # make sure that we load corresponding physiology and annotations\n",
    "        assert physiology_file_path.name == annotations_file_path.name, \"Order mismatch\"\n",
    "        # load data from files\n",
    "        df_physiology = pd.read_csv(physiology_file_path, index_col=\"time\")\n",
    "        df_annotations = pd.read_csv(annotations_file_path, index_col=\"time\")\n",
    "        # store data\n",
    "        storage_list.append((annotations_file_path.name, df_physiology, df_annotations))\n",
    "    return storage_list\n",
    "\n",
    "def load_data_with_folds(scenario_dir_path, dataset_type):\n",
    "    # make dict to store data\n",
    "    storage_dict = dict()\n",
    "    # iterate over the scenario directory\n",
    "    for fold_dir in Path(scenario_dir_path).iterdir():\n",
    "        # make paths for current fold\n",
    "        train_annotations_dir = Path(fold_dir, f\"{dataset_type}/annotations/\")\n",
    "        train_physiology_dir = Path(fold_dir, f\"{dataset_type}/physiology/\")\n",
    "        # make key in a dict for current fold \n",
    "        storage_dict.setdefault(fold_dir.name, list())\n",
    "        # sort contents of dirs, so that physiology and annotations are in the same order  \n",
    "        train_physiology_files = sorted(Path(train_physiology_dir).iterdir())\n",
    "        train_annotation_files = sorted(Path(train_annotations_dir).iterdir())\n",
    "        # iterate over annotation and physiology files\n",
    "        for physiology_file_path, annotations_file_path in zip(train_physiology_files, train_annotation_files):\n",
    "            # make sure that we load corresponding physiology and annotations\n",
    "            assert physiology_file_path.name == annotations_file_path.name, \"Order mismatch\"\n",
    "            # load data from files\n",
    "            df_physiology = pd.read_csv(physiology_file_path, index_col=\"time\")\n",
    "            df_annotations = pd.read_csv(annotations_file_path, index_col=\"time\")\n",
    "            # store data\n",
    "            storage_dict[fold_dir.name].append((annotations_file_path.name, df_physiology, df_annotations))\n",
    "    return storage_dict\n",
    "\n",
    "## Plotting functions\n",
    "def plot_data(modality, annotations, physiology, test=False):\n",
    "    fig = plt.figure(figsize=(16,8))\n",
    "    fig.patch.set_facecolor('white')\n",
    "    # plot train physiology with annotations range \n",
    "    plt.subplot(211)\n",
    "    plt.plot(physiology.index, physiology[modality])\n",
    "    plt.axvspan(annotations.index[0], annotations.index[-1], color='green', alpha=0.3)\n",
    "    plt.xlim(left=physiology.index[0], right=physiology.index[-1])\n",
    "    plt.title(f\"{test * 'Test' + (not test) * 'Training'} data\", fontsize=20)\n",
    "    plt.ylabel(\"Signal value\", fontsize=16)\n",
    "    plt.xlabel(\"Time\", fontsize=16)\n",
    "    plt.xticks(fontsize=14)\n",
    "    plt.yticks(fontsize=14)\n",
    "    # plot train annotations\n",
    "    plt.subplot(212)\n",
    "    plt.plot(annotations.index, annotations['arousal'], label='arousal - train')\n",
    "    plt.plot(annotations.index, annotations['valence'], label='valence - train')\n",
    "    plt.xlim(left=physiology.index[0], right=physiology.index[-1])\n",
    "    plt.legend(fontsize=14)\n",
    "    plt.ylabel(\"Annotation value\", fontsize=16)\n",
    "    plt.xlabel(\"Time\", fontsize=16)\n",
    "    plt.xticks(fontsize=14)\n",
    "    plt.yticks(fontsize=14)\n",
    "    plt.show()\n",
    "\n",
    "# Plot from neurokit\n",
    "def plot_emg(data, fs=1000):\n",
    "    # Process the raw EDA signal\n",
    "    # emg_signals, _ = nk.process(data, sampling_rate=fs)\n",
    "    emg_signals, _ = emg.emg_process(data, sampling_rate=fs, filterCutoff=1.0)\n",
    "    # Visualize cleaned EMG signal\n",
    "    plot = nk.emg_plot(emg_signals)"
   ]
  },
  {
   "cell_type": "markdown",
   "metadata": {},
   "source": [
    "# Loading data"
   ]
  },
  {
   "cell_type": "code",
   "execution_count": null,
   "metadata": {},
   "outputs": [],
   "source": [
    "# specify scenario path\n",
    "scenario_dir = \"../data/scenario_1\"\n",
    "\n",
    "# train data\n",
    "print(\"Loading train data\")\n",
    "train = load_data_no_folds(scenario_dir, \"train\")\n",
    "\n",
    "# test data\n",
    "print(\"Loading test data\")\n",
    "test = load_data_no_folds(scenario_dir, \"test\")"
   ]
  },
  {
   "cell_type": "markdown",
   "metadata": {},
   "source": [
    "# Processing tests"
   ]
  },
  {
   "cell_type": "code",
   "execution_count": null,
   "metadata": {},
   "outputs": [],
   "source": [
    "df, info = emg.emg_process(train[0][1].emg_coru, threshold=5, sampling_rate=1000)\n",
    "info"
   ]
  },
  {
   "cell_type": "code",
   "execution_count": null,
   "metadata": {},
   "outputs": [],
   "source": [
    "plt.plot(df.EMG_Raw, label='emg_coru')\n",
    "plt.plot(df.EMG_Clean, label='clean')\n",
    "plt.plot(df.EMG_Rms, label='rms')\n",
    "plt.plot(df.EMG_Onsets, label='onset')\n",
    "plt.legend()"
   ]
  },
  {
   "cell_type": "code",
   "execution_count": null,
   "metadata": {},
   "outputs": [],
   "source": [
    "nk.emg_analyze(df, sampling_rate=1000)"
   ]
  },
  {
   "cell_type": "code",
   "execution_count": null,
   "metadata": {},
   "outputs": [],
   "source": [
    "df, info = emg.emg_process(train[0][1].emg_zygo, threshold=4, sampling_rate=1000)\n",
    "info\n",
    "\n",
    "plt.plot(df.EMG_Raw, label='emg_zygo')\n",
    "plt.plot(df.EMG_Clean, label='clean')\n",
    "plt.plot(df.EMG_Rms, label='rms')\n",
    "plt.plot(df.EMG_Onsets, label='onset')\n",
    "plt.legend()"
   ]
  },
  {
   "cell_type": "code",
   "execution_count": null,
   "metadata": {},
   "outputs": [],
   "source": [
    "df, info = emg.emg_process(train[0][1].emg_trap, threshold=6, sampling_rate=1000)\n",
    "info\n",
    "\n",
    "plt.plot(df.EMG_Raw, label='emg_trap')\n",
    "plt.plot(df.EMG_Clean, label='clean')\n",
    "plt.plot(df.EMG_Rms, label='rms')\n",
    "plt.plot(df.EMG_Onsets, label='onset')\n",
    "plt.legend()"
   ]
  },
  {
   "cell_type": "markdown",
   "metadata": {},
   "source": [
    "# Plot data and ratings"
   ]
  },
  {
   "cell_type": "code",
   "execution_count": null,
   "metadata": {
    "scrolled": false
   },
   "outputs": [],
   "source": [
    "for (name, data, label) in train:\n",
    "    print(name)\n",
    "    plot_data('emg_zygo', label, data, test=False)\n",
    "    plt.figure()\n",
    "    try:\n",
    "        plot_emg(data.emg_zygo)\n",
    "    except:\n",
    "        print(f\"Failed to plot {name}\")\n",
    "    plt.show()"
   ]
  },
  {
   "cell_type": "code",
   "execution_count": null,
   "metadata": {
    "scrolled": false
   },
   "outputs": [],
   "source": [
    "for (name, data, label) in train:\n",
    "    print(name)\n",
    "    plot_data('emg_coru', label, data, test=False)\n",
    "    plt.figure()\n",
    "    try:\n",
    "        plot_emg(data.emg_coru)\n",
    "    except:\n",
    "        print(f\"Failed to plot {name}\")\n",
    "    plt.show()"
   ]
  },
  {
   "cell_type": "code",
   "execution_count": null,
   "metadata": {
    "scrolled": false
   },
   "outputs": [],
   "source": [
    "for (name, data, label) in train:\n",
    "    print(name)\n",
    "    plot_data('emg_trap', label, data, test=False)\n",
    "    plt.figure()\n",
    "    try:\n",
    "        plot_emg(data.emg_trap)\n",
    "    except:\n",
    "        print(f\"Failed to plot {name}\")\n",
    "    plt.show()"
   ]
  },
  {
   "cell_type": "markdown",
   "metadata": {},
   "source": [
    "# First try\n",
    "This section follows the explain_data notebook, just the data type was changed"
   ]
  },
  {
   "cell_type": "code",
   "execution_count": null,
   "metadata": {},
   "outputs": [],
   "source": [
    "# specify file name\n",
    "file_name = \"sub_1_vid_1.csv\"\n",
    "\n",
    "# load data files\n",
    "train_physiology = pd.read_csv(Path(\"../data/scenario_1/train/physiology\", file_name), index_col=\"time\")\n",
    "train_annotations = pd.read_csv(Path(\"../data/scenario_1/train/annotations\", file_name), index_col=\"time\")\n",
    "test_physiology = pd.read_csv(Path(\"../data/scenario_1/test/physiology\", file_name), index_col=\"time\")\n",
    "test_annotations = pd.read_csv(Path(\"../data/scenario_1/test/annotations\", file_name), index_col=\"time\")"
   ]
  },
  {
   "cell_type": "code",
   "execution_count": null,
   "metadata": {},
   "outputs": [],
   "source": [
    "train_physiology"
   ]
  },
  {
   "cell_type": "code",
   "execution_count": null,
   "metadata": {},
   "outputs": [],
   "source": [
    "train_annotations"
   ]
  },
  {
   "cell_type": "code",
   "execution_count": null,
   "metadata": {},
   "outputs": [],
   "source": [
    "test_physiology"
   ]
  },
  {
   "cell_type": "code",
   "execution_count": null,
   "metadata": {},
   "outputs": [],
   "source": [
    "test_annotations"
   ]
  },
  {
   "cell_type": "code",
   "execution_count": null,
   "metadata": {},
   "outputs": [],
   "source": [
    "import matplotlib.pyplot as plt\n",
    "\n",
    "def plot_data_comparison(train_annotations, train_physiology, test_annotations, test_physiology):\n",
    "    fig = plt.figure(figsize=(32,40))\n",
    "    fig.patch.set_facecolor('white')\n",
    "    # plot train physiology with annotations range \n",
    "    plt.subplot(411)\n",
    "    plt.plot(train_physiology.index, train_physiology['emg_coru'])\n",
    "    plt.axvspan(train_annotations.index[0], train_annotations.index[-1], color='green', alpha=0.3)\n",
    "    plt.xlim(left=test_physiology.index[0], right=test_physiology.index[-1])\n",
    "    plt.title(\"Training data\", fontsize=30)\n",
    "    plt.ylabel(\"Signal value\", fontsize=18)\n",
    "    plt.xlabel(\"Time\", fontsize=18)\n",
    "    plt.xticks(fontsize=14)\n",
    "    plt.yticks(fontsize=14)\n",
    "    # plot train annotations\n",
    "    plt.subplot(412)\n",
    "    plt.plot(train_annotations.index, train_annotations['arousal'], label='arousal - train')\n",
    "    plt.plot(train_annotations.index, train_annotations['valence'], label='valence - train')\n",
    "    plt.xlim(left=test_physiology.index[0], right=test_physiology.index[-1])\n",
    "    plt.legend(fontsize=14)\n",
    "    plt.ylabel(\"Annotation value\", fontsize=18)\n",
    "    plt.xlabel(\"Time\", fontsize=18)\n",
    "    plt.xticks(fontsize=14)\n",
    "    plt.yticks(fontsize=14)\n",
    "    # plot test physiology with annotations range \n",
    "    plt.subplot(413)\n",
    "    plt.plot(test_physiology.index, test_physiology['emg_coru'])\n",
    "    plt.axvspan(test_annotations.index[0], test_annotations.index[-1], color='green', alpha=0.3)\n",
    "    plt.xlim(left=test_physiology.index[0], right=test_physiology.index[-1])\n",
    "    plt.title(\"Test data\", fontsize=30)\n",
    "    plt.ylabel(\"Signal value\", fontsize=18)\n",
    "    plt.xlabel(\"Time\", fontsize=18)\n",
    "    plt.xticks(fontsize=14)\n",
    "    plt.yticks(fontsize=14)\n",
    "    # plot test annotations\n",
    "    ax = plt.subplot(414)\n",
    "    plt.plot(test_annotations.index, test_annotations['arousal'], label='arousal - test')\n",
    "    plt.plot(test_annotations.index, test_annotations['valence'], label='valence - test')\n",
    "    plt.xlim(left=test_physiology.index[0], right=test_physiology.index[-1])\n",
    "    plt.xticks(fontsize=14)\n",
    "    plt.yticks([test_annotations['arousal'].iloc[0]], [\"NaN\"], fontsize=14)\n",
    "    plt.legend(fontsize=14)\n",
    "    plt.ylabel(\"Annotation value\", fontsize=18)\n",
    "    plt.xlabel(\"Time\", fontsize=18)\n",
    "    plt.show()"
   ]
  },
  {
   "cell_type": "markdown",
   "metadata": {},
   "source": [
    "Below you can see the example of train and test data:\n",
    "- in training data annotations start and end with the physiological data. Every annotation point has arousal and valence values assigned.\n",
    "- in test data annotations start 10s after the physiology, and end 10s before the physiology ends. Annotation points are specified, but arousal and valence values have been deleted. Your task is to predict arousal and valence values in the specified points in time.\n",
    "\n",
    "In plots, green regions show the range of physiological signals covered by annotation points.\n",
    "\n",
    "The above holds for all scenarios as shown below."
   ]
  },
  {
   "cell_type": "code",
   "execution_count": null,
   "metadata": {},
   "outputs": [],
   "source": [
    "# specify file name\n",
    "file_name = \"sub_1_vid_1.csv\"\n",
    "\n",
    "# load data files\n",
    "train_physiology = pd.read_csv(Path(\"../data/scenario_1/train/physiology\", file_name), index_col=\"time\")\n",
    "train_annotations = pd.read_csv(Path(\"../data/scenario_1/train/annotations\", file_name), index_col=\"time\")\n",
    "test_physiology = pd.read_csv(Path(\"../data/scenario_1/test/physiology\", file_name), index_col=\"time\")\n",
    "test_annotations = pd.read_csv(Path(\"../data/scenario_1/test/annotations\", file_name), index_col=\"time\")\n",
    "\n",
    "# change test_annotations from NA to -1 - only for plotting, so pyplot works ok \n",
    "test_annotations.loc[:] = -1 \n",
    "\n",
    "plot_data_comparison(train_annotations, train_physiology, test_annotations, test_physiology)"
   ]
  },
  {
   "cell_type": "code",
   "execution_count": null,
   "metadata": {},
   "outputs": [],
   "source": [
    "df, info = emg.emg_process(train_physiology.emg_coru, threshold=3, sampling_rate=1000)"
   ]
  },
  {
   "cell_type": "code",
   "execution_count": null,
   "metadata": {},
   "outputs": [],
   "source": [
    "info"
   ]
  },
  {
   "cell_type": "code",
   "execution_count": null,
   "metadata": {},
   "outputs": [],
   "source": [
    "plt.figure(figsize=[16,8])\n",
    "plt.plot(df.EMG_Raw, label='emg')\n",
    "plt.plot(df.EMG_Clean, label='clean')\n",
    "plt.plot(df.EMG_Rms, label='rms')\n",
    "plt.plot(df.EMG_Onsets, label='onset')\n",
    "plt.legend()"
   ]
  },
  {
   "cell_type": "code",
   "execution_count": null,
   "metadata": {},
   "outputs": [],
   "source": [
    "nk.emg_activation?"
   ]
  },
  {
   "cell_type": "code",
   "execution_count": null,
   "metadata": {},
   "outputs": [],
   "source": [
    "# specify files to load\n",
    "train_file_name = \"sub_0_vid_3.csv\"\n",
    "test_file_name = \"sub_0_vid_0.csv\"\n",
    "# load data files\n",
    "train_physiology = pd.read_csv(Path(\"../data/scenario_4/fold_0/train/physiology\", train_file_name), index_col=\"time\")\n",
    "train_annotations = pd.read_csv(Path(\"../data/scenario_4/fold_0/train/annotations\", train_file_name), index_col=\"time\")\n",
    "test_physiology = pd.read_csv(Path(\"../data/scenario_4/fold_0/test/physiology\", test_file_name), index_col=\"time\")\n",
    "test_annotations = pd.read_csv(Path(\"../data/scenario_4/fold_0/test/annotations\", test_file_name), index_col=\"time\")\n",
    "# change test_annotations from NA to -1 - only for plotting, so pyplot works ok \n",
    "test_annotations.loc[:] = -1\n",
    "# plot\n",
    "plot_data_comparison(train_annotations, train_physiology, test_annotations, test_physiology)"
   ]
  },
  {
   "cell_type": "code",
   "execution_count": null,
   "metadata": {},
   "outputs": [],
   "source": []
  }
 ],
 "metadata": {
  "kernelspec": {
   "display_name": "Python 3 (ipykernel)",
   "language": "python",
   "name": "python3"
  },
  "language_info": {
   "codemirror_mode": {
    "name": "ipython",
    "version": 3
   },
   "file_extension": ".py",
   "mimetype": "text/x-python",
   "name": "python",
   "nbconvert_exporter": "python",
   "pygments_lexer": "ipython3",
   "version": "3.8.16"
  },
  "vscode": {
   "interpreter": {
    "hash": "9ea602887940d9a50b080e5eb36c467042c6fcf38a80d4890c3ed2fb1a331dfc"
   }
  }
 },
 "nbformat": 4,
 "nbformat_minor": 4
}
