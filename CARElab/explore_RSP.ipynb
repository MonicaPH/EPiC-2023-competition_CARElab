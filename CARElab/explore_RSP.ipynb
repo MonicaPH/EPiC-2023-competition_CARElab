{
 "cells": [
  {
   "cell_type": "code",
   "execution_count": 83,
   "id": "0f2195ca",
   "metadata": {},
   "outputs": [],
   "source": [
    "import pandas as pd\n",
    "import numpy as np\n",
    "import os\n",
    "\n",
    "import matplotlib.pyplot as plt\n",
    "import seaborn as sns\n",
    "import matplotlib_inline.backend_inline\n",
    "matplotlib_inline.backend_inline.set_matplotlib_formats('svg')\n",
    "from matplotlib.colors import ListedColormap\n",
    "\n",
    "import re"
   ]
  },
  {
   "cell_type": "code",
   "execution_count": 31,
   "id": "be408a49",
   "metadata": {},
   "outputs": [],
   "source": [
    "plt.rcParams['axes.grid'] = True\n",
    "plt.rcParams['grid.alpha'] = 0.8\n",
    "plt.rcParams['grid.linestyle'] = 'dotted'\n",
    "plt.rcParams[\"font.family\"] = \"Times New Roman\"\n",
    "# plt.rcParams['figure.figsize'] = (4.845, 3.135)\n",
    "plt.rcParams['figure.dpi'] = 300\n",
    "plt.rcParams['font.size'] = 10\n",
    "plt.rcParams['axes.labelsize'] = 11\n",
    "plt.rcParams['mathtext.default']='regular'"
   ]
  },
  {
   "cell_type": "markdown",
   "id": "50ad945c",
   "metadata": {},
   "source": [
    "## scenario 1"
   ]
  },
  {
   "cell_type": "markdown",
   "id": "ffaef65b",
   "metadata": {},
   "source": [
    "training set and test set have the same subjects and videos"
   ]
  },
  {
   "cell_type": "code",
   "execution_count": 174,
   "id": "b7c0e60e",
   "metadata": {},
   "outputs": [],
   "source": [
    "path_prefix = '../'\n",
    "class S1():\n",
    "    def __init__(self):\n",
    "        filenames = sorted(os.listdir(os.path.join(path_prefix, f'data/scenario_1/train/physiology')),\n",
    "                           key=lambda s: (int(re.findall(r'(?<=sub_)\\d+', s)[0]), int(re.findall(r'(?<=vid_)\\d+', s)[0])))\n",
    "        self.subs = list(set([int(re.findall(r'(?<=sub_)\\d+', s)[0]) for s in filenames]))\n",
    "        self.vids = list(set([int(re.findall(r'(?<=vid_)\\d+', s)[0]) for s in filenames]))\n",
    "        self.keys = ['ecg',' bvp', 'gsr', 'rsp', 'skt', 'emg_zygo', 'emg_coru', 'emg_trap']\n",
    "    \n",
    "    def train_data(self, sub: int, vid: int):\n",
    "        return pd.read_csv(os.path.join(path_prefix, f'data/scenario_1/train/physiology', f'sub_{sub}_vid_{vid}.csv'), index_col=\"time\"), \\\n",
    "            pd.read_csv(os.path.join(path_prefix, f'data/scenario_1/train/annotations', f'sub_{sub}_vid_{vid}.csv'), index_col=\"time\")\n",
    "    \n",
    "    def test_data(self, sub: int, vid: int):\n",
    "        return pd.read_csv(os.path.join(path_prefix, f'data/scenario_1/test/physiology', f'sub_{sub}_vid_{vid}.csv'), index_col=\"time\"), \\\n",
    "            pd.read_csv(os.path.join(path_prefix, f'data/scenario_1/test/annotations', f'sub_{sub}_vid_{vid}.csv'), index_col=\"time\")"
   ]
  },
  {
   "cell_type": "code",
   "execution_count": 175,
   "id": "c08a3c6e",
   "metadata": {},
   "outputs": [],
   "source": [
    "s1 = S1()"
   ]
  },
  {
   "cell_type": "code",
   "execution_count": 176,
   "id": "018da7c9",
   "metadata": {
    "scrolled": true
   },
   "outputs": [
    {
     "data": {
      "text/plain": [
       "(array([ 1,  4,  6,  7,  8,  9, 11, 12, 13, 14, 17, 18, 19, 20, 22, 26, 28,\n",
       "        29, 30, 31, 32, 33, 34, 35, 36, 37, 38, 41, 43, 45]),\n",
       " array([ 1,  9, 10, 11, 13, 14, 18, 20]))"
      ]
     },
     "execution_count": 176,
     "metadata": {},
     "output_type": "execute_result"
    }
   ],
   "source": [
    "np.array(s1.subs), np.array(s1.vids)"
   ]
  },
  {
   "cell_type": "code",
   "execution_count": 122,
   "id": "8d6c0554",
   "metadata": {},
   "outputs": [],
   "source": [
    "X, y = s1.train_data(1, 1)"
   ]
  },
  {
   "cell_type": "markdown",
   "id": "8c96af25",
   "metadata": {},
   "source": [
    "## scenario 2"
   ]
  },
  {
   "cell_type": "code",
   "execution_count": 177,
   "id": "444b7db6",
   "metadata": {},
   "outputs": [],
   "source": [
    "path_prefix = '../'\n",
    "class S2():\n",
    "    def __init__(self):\n",
    "        self.fold = [0, 1, 2, 3, 4]\n",
    "        \n",
    "        self.train_subs = [] # (5, x)\n",
    "        self.test_subs = [] # (5, x)\n",
    "        self.vids = [] # (x)\n",
    "        \n",
    "        for i in self.fold:\n",
    "            filenames = os.listdir(os.path.join(path_prefix, f'data/scenario_2/fold_{i}/train/physiology'))\n",
    "            self.train_subs.append(sorted(list(set([int(re.findall(r'(?<=sub_)\\d+', s)[0]) for s in filenames]))))\n",
    "            if self.vids == []:\n",
    "                self.vids = sorted(list(set([int(re.findall(r'(?<=vid_)\\d+', s)[0]) for s in filenames])))\n",
    "            \n",
    "            filenames = os.listdir(os.path.join(path_prefix, f'data/scenario_2/fold_{i}/test/physiology'))\n",
    "            self.test_subs.append(sorted(list(set([int(re.findall(r'(?<=sub_)\\d+', s)[0]) for s in filenames]))))\n",
    "\n",
    "        self.keys = ['ecg',' bvp', 'gsr', 'rsp', 'skt', 'emg_zygo', 'emg_coru', 'emg_trap']\n",
    "    \n",
    "    def train_data(self, fold: int, sub: int, vid: int):\n",
    "        return pd.read_csv(os.path.join(path_prefix, f'data/scenario_2/fold_{fold}/train/physiology', f'sub_{sub}_vid_{vid}.csv'), index_col=\"time\"), \\\n",
    "            pd.read_csv(os.path.join(path_prefix, f'data/scenario_2/fold_{fold}/train/annotations', f'sub_{sub}_vid_{vid}.csv'), index_col=\"time\")\n",
    "    \n",
    "    def test_data(self, fold: int, sub: int, vid: int):\n",
    "        return pd.read_csv(os.path.join(path_prefix, f'data/scenario_2/fold_{fold}/test/physiology', f'sub_{sub}_vid_{vid}.csv'), index_col=\"time\"), \\\n",
    "            pd.read_csv(os.path.join(path_prefix, f'data/scenario_2/fold_{fold}/test/annotations', f'sub_{sub}_vid_{vid}.csv'), index_col=\"time\")"
   ]
  },
  {
   "cell_type": "code",
   "execution_count": 150,
   "id": "0cc610a9",
   "metadata": {},
   "outputs": [],
   "source": [
    "s2 = S2()"
   ]
  },
  {
   "cell_type": "markdown",
   "id": "d7cdb8b0",
   "metadata": {},
   "source": [
    "## scenario 3"
   ]
  },
  {
   "cell_type": "code",
   "execution_count": 158,
   "id": "6db85592",
   "metadata": {},
   "outputs": [],
   "source": [
    "path_prefix = '../'\n",
    "class S3():\n",
    "    def __init__(self):\n",
    "        self.fold = [0, 1, 2, 3]\n",
    "        \n",
    "        self.train_vids = []\n",
    "        self.test_vids = []\n",
    "        self.subs = []\n",
    "        \n",
    "        for i in self.fold:\n",
    "            filenames = os.listdir(os.path.join(path_prefix, f'data/scenario_3/fold_{i}/train/physiology'))\n",
    "            self.train_vids.append(sorted(list(set([int(re.findall(r'(?<=vid_)\\d+', s)[0]) for s in filenames]))))\n",
    "            if self.subs == []:\n",
    "                self.subs = sorted(list(set([int(re.findall(r'(?<=sub_)\\d+', s)[0]) for s in filenames])))\n",
    "            \n",
    "            filenames = os.listdir(os.path.join(path_prefix, f'data/scenario_3/fold_{i}/test/physiology'))\n",
    "            self.test_vids.append(sorted(list(set([int(re.findall(r'(?<=vid_)\\d+', s)[0]) for s in filenames]))))\n",
    "\n",
    "        self.keys = ['ecg',' bvp', 'gsr', 'rsp', 'skt', 'emg_zygo', 'emg_coru', 'emg_trap']\n",
    "    \n",
    "    def train_data(self, fold: int, sub: int, vid: int):\n",
    "        return pd.read_csv(os.path.join(path_prefix, f'data/scenario_3/fold_{fold}/train/physiology', f'sub_{sub}_vid_{vid}.csv'), index_col=\"time\"), \\\n",
    "            pd.read_csv(os.path.join(path_prefix, f'data/scenario_3/fold_{fold}/train/annotations', f'sub_{sub}_vid_{vid}.csv'), index_col=\"time\")\n",
    "    \n",
    "    def test_data(self, fold: int, sub: int, vid: int):\n",
    "        return pd.read_csv(os.path.join(path_prefix, f'data/scenario_3/fold_{fold}/test/physiology', f'sub_{sub}_vid_{vid}.csv'), index_col=\"time\"), \\\n",
    "            pd.read_csv(os.path.join(path_prefix, f'data/scenario_3/fold_{fold}/test/annotations', f'sub_{sub}_vid_{vid}.csv'), index_col=\"time\")"
   ]
  },
  {
   "cell_type": "code",
   "execution_count": 166,
   "id": "9c7711ec",
   "metadata": {},
   "outputs": [],
   "source": [
    "s3 = S3()\n",
    "# s3.train_vids\n",
    "# s3.test_vids\n",
    "# s3.subs"
   ]
  },
  {
   "cell_type": "markdown",
   "id": "e51a76fa",
   "metadata": {},
   "source": [
    "## scenario 4"
   ]
  },
  {
   "cell_type": "code",
   "execution_count": 173,
   "id": "da580ed4",
   "metadata": {},
   "outputs": [],
   "source": [
    "path_prefix = '../'\n",
    "class S4():\n",
    "    def __init__(self):\n",
    "        self.fold = [0, 1]\n",
    "        \n",
    "        self.train_vids = []\n",
    "        self.test_vids = []\n",
    "        self.subs = []\n",
    "        \n",
    "        for i in self.fold:\n",
    "            filenames = os.listdir(os.path.join(path_prefix, f'data/scenario_4/fold_{i}/train/physiology'))\n",
    "            self.train_vids.append(sorted(list(set([int(re.findall(r'(?<=vid_)\\d+', s)[0]) for s in filenames]))))\n",
    "            if self.subs == []:\n",
    "                self.subs = sorted(list(set([int(re.findall(r'(?<=sub_)\\d+', s)[0]) for s in filenames])))\n",
    "            \n",
    "            filenames = os.listdir(os.path.join(path_prefix, f'data/scenario_4/fold_{i}/test/physiology'))\n",
    "            self.test_vids.append(sorted(list(set([int(re.findall(r'(?<=vid_)\\d+', s)[0]) for s in filenames]))))\n",
    "\n",
    "        self.keys = ['ecg',' bvp', 'gsr', 'rsp', 'skt', 'emg_zygo', 'emg_coru', 'emg_trap']\n",
    "    \n",
    "    def train_data(self, fold: int, sub: int, vid: int):\n",
    "        return pd.read_csv(os.path.join(path_prefix, f'data/scenario_4/fold_{fold}/train/physiology', f'sub_{sub}_vid_{vid}.csv'), index_col=\"time\"), \\\n",
    "            pd.read_csv(os.path.join(path_prefix, f'data/scenario_4/fold_{fold}/train/annotations', f'sub_{sub}_vid_{vid}.csv'), index_col=\"time\")\n",
    "    \n",
    "    def test_data(self, fold: int, sub: int, vid: int):\n",
    "        return pd.read_csv(os.path.join(path_prefix, f'data/scenario_4/fold_{fold}/test/physiology', f'sub_{sub}_vid_{vid}.csv'), index_col=\"time\"), \\\n",
    "            pd.read_csv(os.path.join(path_prefix, f'data/scenario_4/fold_{fold}/test/annotations', f'sub_{sub}_vid_{vid}.csv'), index_col=\"time\")"
   ]
  },
  {
   "cell_type": "code",
   "execution_count": 179,
   "id": "89aeadf2",
   "metadata": {},
   "outputs": [
    {
     "data": {
      "text/plain": [
       "([[3, 16, 19, 20], [0, 9, 12, 15]], [[0, 9, 12, 15], [3, 16, 19, 20]])"
      ]
     },
     "execution_count": 179,
     "metadata": {},
     "output_type": "execute_result"
    }
   ],
   "source": [
    "s4 = S4()\n",
    "s4.train_vids, s4.test_vids"
   ]
  },
  {
   "cell_type": "code",
   "execution_count": null,
   "id": "4b4822e7",
   "metadata": {},
   "outputs": [],
   "source": [
    "plt.figure(figsize=(12, 5))\n",
    "sns.lineplot(data=train_physiology.iloc, x='time', y='rsp', );"
   ]
  },
  {
   "cell_type": "code",
   "execution_count": null,
   "id": "b14c356a",
   "metadata": {},
   "outputs": [],
   "source": [
    "def plot_data_comparison(train_physiology, train_annotations, test_physiology, test_annotations):\n",
    "    fig = plt.figure(figsize=(10,18))\n",
    "    fig.patch.set_facecolor('white')\n",
    "    # plot train physiology with annotations range \n",
    "    plt.subplot(411)\n",
    "    plt.plot(train_physiology.index, train_physiology['rsp'])\n",
    "    plt.axvspan(train_annotations.index[0], train_annotations.index[-1], color='green', alpha=0.3)\n",
    "    plt.xlim(left=train_physiology.index[0], right=train_physiology.index[-1])\n",
    "    plt.title(\"Training data\")\n",
    "    plt.ylabel(\"Signal value\")\n",
    "    plt.xlabel(\"Time\")\n",
    "    # plot train annotations\n",
    "    plt.subplot(412)\n",
    "    plt.plot(train_annotations.index, train_annotations['arousal'], label='arousal - train')\n",
    "    plt.plot(train_annotations.index, train_annotations['valence'], label='valence - train')\n",
    "    plt.xlim(left=train_physiology.index[0], right=train_physiology.index[-1])\n",
    "    plt.legend()\n",
    "    plt.ylabel(\"Annotation value\")\n",
    "    plt.xlabel(\"Time\")\n",
    "    # plot test physiology with annotations range \n",
    "    plt.subplot(413)\n",
    "    plt.plot(test_physiology.index, test_physiology['rsp'])\n",
    "    plt.axvspan(test_annotations.index[0], test_annotations.index[-1], color='green', alpha=0.3)\n",
    "    plt.xlim(left=test_physiology.index[0], right=test_physiology.index[-1])\n",
    "    plt.title(\"Test data\")\n",
    "    plt.ylabel(\"Signal value\")\n",
    "    plt.xlabel(\"Time\")\n",
    "    # plot test annotations\n",
    "    ax = plt.subplot(414)\n",
    "    plt.plot(test_annotations.index, test_annotations['arousal'], label='arousal - test')\n",
    "    plt.plot(test_annotations.index, test_annotations['valence'], label='valence - test')\n",
    "    plt.xlim(left=test_physiology.index[0], right=test_physiology.index[-1])\n",
    "    plt.yticks([test_annotations['arousal'].iloc[0]], [\"NaN\"])\n",
    "    plt.legend()\n",
    "    plt.ylabel(\"Annotation value\")\n",
    "    plt.xlabel(\"Time\")\n",
    "    plt.tight_layout()\n",
    "    plt.show()"
   ]
  },
  {
   "cell_type": "code",
   "execution_count": null,
   "id": "09d87a36",
   "metadata": {},
   "outputs": [],
   "source": [
    "plot_data_comparison(train_physiology, train_annotations, test_physiology, test_annotations)"
   ]
  }
 ],
 "metadata": {
  "kernelspec": {
   "display_name": "Python 3 (ipykernel)",
   "language": "python",
   "name": "python3"
  },
  "language_info": {
   "codemirror_mode": {
    "name": "ipython",
    "version": 3
   },
   "file_extension": ".py",
   "mimetype": "text/x-python",
   "name": "python",
   "nbconvert_exporter": "python",
   "pygments_lexer": "ipython3",
   "version": "3.10.10"
  },
  "toc": {
   "base_numbering": 1,
   "nav_menu": {},
   "number_sections": true,
   "sideBar": true,
   "skip_h1_title": false,
   "title_cell": "Table of Contents",
   "title_sidebar": "Contents",
   "toc_cell": false,
   "toc_position": {},
   "toc_section_display": true,
   "toc_window_display": true
  }
 },
 "nbformat": 4,
 "nbformat_minor": 5
}
