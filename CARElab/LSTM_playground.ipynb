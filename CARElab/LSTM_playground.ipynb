{
 "cells": [
  {
   "cell_type": "code",
   "execution_count": 1,
   "id": "899382c0",
   "metadata": {},
   "outputs": [],
   "source": [
    "from __future__ import annotations\n",
    "import argparse\n",
    "import numpy as np\n",
    "import pandas as pd\n",
    "import sys, os\n",
    "sys.path.append(os.path.relpath(\"../src/\"))\n",
    "from dataloader import S1, S2, S3, S4\n",
    "from dataset import EpicDataset\n",
    "import torch\n",
    "from torch.utils.data import DataLoader, Dataset\n",
    "from sequential import SequenceEncoder\n",
    "\n",
    "import pytorch_lightning as L\n",
    "from pytorch_lightning import seed_everything, Trainer\n",
    "from pytorch_lightning.callbacks import LearningRateMonitor, ModelCheckpoint"
   ]
  },
  {
   "cell_type": "code",
   "execution_count": 2,
   "id": "8b91c345",
   "metadata": {},
   "outputs": [
    {
     "name": "stdout",
     "output_type": "stream",
     "text": [
      "Torch version: 2.0.0\n",
      "GPU?: cpu\n"
     ]
    }
   ],
   "source": [
    "torch.random.manual_seed(0)\n",
    "device = \"cuda\" if torch.cuda.is_available() else \"cpu\"\n",
    "\n",
    "print(f\"Torch version: {torch.__version__}\")\n",
    "print(f\"GPU?: {device}\")"
   ]
  },
  {
   "cell_type": "code",
   "execution_count": 3,
   "id": "8abbbe8b",
   "metadata": {},
   "outputs": [],
   "source": [
    "def getDatasetForScenario(n: int, modality: str) -> Dataset:\n",
    "    if n == 1:\n",
    "        dataset = EpicDataset(S1(), modality)\n",
    "    elif n == 2:\n",
    "        dataset = EpicDataset(S2(), modality)\n",
    "    elif n == 3:\n",
    "        dataset = EpicDataset(S3(), modality)\n",
    "    else: #n == 4:\n",
    "        dataset = EpicDataset(S4(), modality)\n",
    "    return dataset\n",
    "\n",
    "\n",
    "class LitModel(L.LightningModule):\n",
    "    def __init__(self, model):\n",
    "        super().__init__()\n",
    "        self.model = model\n",
    "\n",
    "    def training_step(self, batch):\n",
    "        x, y = batch\n",
    "        x = x.view(x.size(0), -1)\n",
    "        y_hat = self.model(x)\n",
    "        loss = torch.nn.functional.mse_loss(y_hat, y)\n",
    "        self.log(\"train_loss\", loss)\n",
    "        return loss\n",
    "\n",
    "    def configure_optimizers(self):\n",
    "        return torch.optim.Adam(self.parameters(), lr=1e-3)"
   ]
  },
  {
   "cell_type": "code",
   "execution_count": 4,
   "id": "69151e5b",
   "metadata": {},
   "outputs": [
    {
     "name": "stderr",
     "output_type": "stream",
     "text": [
      "Global seed set to 1\n"
     ]
    }
   ],
   "source": [
    "seed_everything(1)\n",
    "checkpoint_dir = \"checkpoints\"\n",
    "checkpoint = ModelCheckpoint(\n",
    "    checkpoint_dir,\n",
    "    monitor=\"Losses/val_loss\",\n",
    "    mode=\"min\",\n",
    "    save_top_k=5,\n",
    "    save_weights_only=False,\n",
    "    verbose=True,\n",
    ")"
   ]
  },
  {
   "cell_type": "code",
   "execution_count": 5,
   "id": "03361ed2",
   "metadata": {},
   "outputs": [],
   "source": [
    "train_checkpoint = ModelCheckpoint(\n",
    "        checkpoint_dir,\n",
    "        monitor=\"Losses/train_loss\",\n",
    "        mode=\"min\",\n",
    "        save_top_k=5,\n",
    "        save_weights_only=False,\n",
    "        verbose=True,\n",
    ")"
   ]
  },
  {
   "cell_type": "code",
   "execution_count": 6,
   "id": "807b20f2",
   "metadata": {},
   "outputs": [],
   "source": [
    "lr_monitor = LearningRateMonitor(logging_interval=\"step\")\n",
    "callbacks = [\n",
    "    checkpoint,\n",
    "    train_checkpoint,\n",
    "    lr_monitor,\n",
    "]"
   ]
  },
  {
   "cell_type": "code",
   "execution_count": 7,
   "id": "65413b44",
   "metadata": {
    "scrolled": true
   },
   "outputs": [
    {
     "name": "stderr",
     "output_type": "stream",
     "text": [
      "GPU available: False, used: False\n",
      "TPU available: False, using: 0 TPU cores\n",
      "IPU available: False, using: 0 IPUs\n",
      "HPU available: False, using: 0 HPUs\n",
      "/Users/felixdollack/miniconda3/envs/pytorch/lib/python3.9/site-packages/pytorch_lightning/trainer/connectors/logger_connector/logger_connector.py:67: UserWarning: Starting from v1.9.0, `tensorboardX` has been removed as a dependency of the `pytorch_lightning` package, due to potential conflicts with other packages in the ML ecosystem. For this reason, `logger=True` will use `CSVLogger` as the default logger, unless the `tensorboard` or `tensorboardX` packages are found. Please `pip install lightning[extra]` or one of them to enable TensorBoard support by default\n",
      "  warning_cache.warn(\n"
     ]
    }
   ],
   "source": [
    "exp_dir = \"exp\"\n",
    "epochs = 1\n",
    "nodes = 1\n",
    "\n",
    "trainer = Trainer(\n",
    "        default_root_dir=exp_dir,\n",
    "        max_epochs=epochs,\n",
    "        num_nodes=nodes,\n",
    "        # gpus=args.gpus, # all?\n",
    "        # accelerator=\"gpu\",\n",
    "#        strategy=DDPPlugin(find_unused_parameters=False),\n",
    "        callbacks=callbacks,\n",
    "        reload_dataloaders_every_n_epochs=1,\n",
    "        gradient_clip_val=10.0,\n",
    "    )"
   ]
  },
  {
   "cell_type": "code",
   "execution_count": 8,
   "id": "f2ac88ed",
   "metadata": {},
   "outputs": [],
   "source": [
    "numIn = 50\n",
    "hidden = 32\n",
    "out = 2\n",
    "model = SequenceEncoder(numIn, hidden, out)"
   ]
  },
  {
   "cell_type": "code",
   "execution_count": 9,
   "id": "2cd838c1",
   "metadata": {},
   "outputs": [],
   "source": [
    "scenario = 1\n",
    "data_module = DataLoader(getDatasetForScenario(scenario, 'ecg'))"
   ]
  },
  {
   "cell_type": "code",
   "execution_count": null,
   "id": "d4bd7139",
   "metadata": {
    "scrolled": false
   },
   "outputs": [
    {
     "name": "stderr",
     "output_type": "stream",
     "text": [
      "\n",
      "  | Name  | Type            | Params\n",
      "------------------------------------------\n",
      "0 | model | SequenceEncoder | 14.5 K\n",
      "------------------------------------------\n",
      "14.5 K    Trainable params\n",
      "0         Non-trainable params\n",
      "14.5 K    Total params\n",
      "0.058     Total estimated model params size (MB)\n",
      "/Users/felixdollack/miniconda3/envs/pytorch/lib/python3.9/site-packages/lightning_fabric/loggers/csv_logs.py:188: UserWarning: Experiment logs directory exp/lightning_logs/version_0 exists and is not empty. Previous log files in this directory will be deleted when the new ones are saved!\n",
      "  rank_zero_warn(\n",
      "/Users/felixdollack/miniconda3/envs/pytorch/lib/python3.9/site-packages/pytorch_lightning/trainer/connectors/data_connector.py:430: PossibleUserWarning: The dataloader, train_dataloader, does not have many workers which may be a bottleneck. Consider increasing the value of the `num_workers` argument` (try 8 which is the number of cpus on this machine) in the `DataLoader` init to improve performance.\n",
      "  rank_zero_warn(\n"
     ]
    },
    {
     "data": {
      "application/vnd.jupyter.widget-view+json": {
       "model_id": "b028ae99be6c44628d5acfeb9ed65887",
       "version_major": 2,
       "version_minor": 0
      },
      "text/plain": [
       "Training: 0it [00:00, ?it/s]"
      ]
     },
     "metadata": {},
     "output_type": "display_data"
    }
   ],
   "source": [
    "trainer.fit(LitModel(model), data_module)#, ckpt_path=checkpoint_dir)"
   ]
  },
  {
   "cell_type": "code",
   "execution_count": null,
   "id": "33e577b9",
   "metadata": {},
   "outputs": [],
   "source": []
  }
 ],
 "metadata": {
  "kernelspec": {
   "display_name": "Python 3 (ipykernel)",
   "language": "python",
   "name": "python3"
  },
  "language_info": {
   "codemirror_mode": {
    "name": "ipython",
    "version": 3
   },
   "file_extension": ".py",
   "mimetype": "text/x-python",
   "name": "python",
   "nbconvert_exporter": "python",
   "pygments_lexer": "ipython3",
   "version": "3.9.16"
  }
 },
 "nbformat": 4,
 "nbformat_minor": 5
}
