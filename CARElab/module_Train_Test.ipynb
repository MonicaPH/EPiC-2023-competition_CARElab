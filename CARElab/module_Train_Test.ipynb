{
 "cells": [
  {
   "cell_type": "code",
   "execution_count": 5,
   "id": "e9df7464-30ac-401c-a62e-ae235f96bf99",
   "metadata": {
    "tags": []
   },
   "outputs": [],
   "source": [
    "import pandas as pd\n",
    "import numpy as np\n",
    "from autogluon.tabular import TabularDataset, TabularPredictor"
   ]
  },
  {
   "cell_type": "code",
   "execution_count": 6,
   "id": "e75472f6-c3f7-458c-9a20-bfd2116d5203",
   "metadata": {
    "tags": []
   },
   "outputs": [],
   "source": [
    "def train(X, y, target:str, model_path, num_cpus, num_gpus):\n",
    "    train_data = pd.concat([X, y], axis=1)\n",
    "    label = target\n",
    "    train_data = TabularDataset(train_data)\n",
    "    predictor = TabularPredictor(label=label, problem_type='regression', path=model_path, verbosity=0).fit(train_data, ag_args_fit={'num_cpus': num_cpus, 'num_gpus': num_gpus})\n",
    "    return"
   ]
  },
  {
   "cell_type": "code",
   "execution_count": 7,
   "id": "1b17ecb5-b7ce-4787-a866-fc0e4c5cfd5a",
   "metadata": {
    "tags": []
   },
   "outputs": [],
   "source": [
    "def test(X, target:str, model_path:list):\n",
    "    test_data = TabularDataset(X)\n",
    "    predictions = []\n",
    "    for path in model_path:\n",
    "        predictor = TabularPredictor.load(path)\n",
    "        y_pred = predictor.predict(test_data)\n",
    "        predictions.append(np.array(y_pred))\n",
    "    predictions = np.array(predictions)\n",
    "    return np.mean(predictions, axis=1)"
   ]
  }
 ],
 "metadata": {
  "kernelspec": {
   "display_name": "Python 3 (ipykernel)",
   "language": "python",
   "name": "python3"
  },
  "language_info": {
   "codemirror_mode": {
    "name": "ipython",
    "version": 3
   },
   "file_extension": ".py",
   "mimetype": "text/x-python",
   "name": "python",
   "nbconvert_exporter": "python",
   "pygments_lexer": "ipython3",
   "version": "3.10.10"
  }
 },
 "nbformat": 4,
 "nbformat_minor": 5
}
