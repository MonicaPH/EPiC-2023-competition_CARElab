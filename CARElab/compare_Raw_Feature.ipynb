{
 "cells": [
  {
   "cell_type": "code",
   "execution_count": 19,
   "id": "b5343614-09f7-4efb-a122-18786e616784",
   "metadata": {
    "tags": []
   },
   "outputs": [],
   "source": [
    "import pandas as pd\n",
    "import numpy as np\n",
    "import re\n",
    "import os\n",
    "import sys\n",
    "\n",
    "sys.path.append(os.path.relpath(\"../src/\"))\n",
    "from dataloader import S1, S2, S3, S4\n",
    "import emg\n",
    "from utils import create_sliding_window_features \n",
    "from multilabel import MultilabelPredictor\n",
    "from autogluon.tabular import TabularDataset, TabularPredictor"
   ]
  },
  {
   "cell_type": "code",
   "execution_count": 21,
   "id": "4f6650cf-21b9-4144-bd38-ece5d90c7eba",
   "metadata": {
    "tags": []
   },
   "outputs": [],
   "source": [
    "import logging, datetime\n",
    "\n",
    "log_format = '%(asctime)s [%(levelname)s] %(message)s'\n",
    "log_filename = datetime.datetime.now().strftime('%Y-%m-%d_%H-%M-%S')\n",
    "logging.basicConfig(format=log_format, \n",
    "                    force=True,\n",
    "                    handlers=[\n",
    "                        logging.FileHandler(f\"../log/{log_filename}.log\"),\n",
    "                        logging.StreamHandler()\n",
    "                        ],\n",
    "                    level=logging.INFO\n",
    "                    )"
   ]
  },
  {
   "cell_type": "markdown",
   "id": "67b96020-de77-4516-8ac4-562bfa99879b",
   "metadata": {},
   "source": [
    "### data splitter"
   ]
  },
  {
   "cell_type": "code",
   "execution_count": 16,
   "id": "06b56bcf-babf-453f-bc27-718366c54537",
   "metadata": {
    "tags": []
   },
   "outputs": [],
   "source": [
    "feature_path_prefix = '../features/scenario_1/train/'\n",
    "annotation_path_prefix = '../data/scenario_1/train/annotations/'\n",
    "save_prefix = '../splitted_data/feature/'\n",
    "s1 = S1()\n",
    "\n",
    "validation_pairs = []\n",
    "for sub in s1.train_subs[::5]:\n",
    "    for vid in s1.train_vids[::2]:\n",
    "        validation_pairs.append((sub, vid))\n",
    "        \n",
    "for sub, vid in validation_pairs:\n",
    "    features = pd.read_csv(os.path.join(feature_path_prefix, f'sub_{sub}_vid_{vid}.csv'), index_col='time')\n",
    "    annotations = pd.read_csv(os.path.join(annotation_path_prefix, f'sub_{sub}_vid_{vid}.csv'), index_col='time')\n",
    "    \n",
    "    df = pd.concat([features, annotations], axis=1)\n",
    "    \n",
    "    length = len(df)\n",
    "    \n",
    "    train_length = int(length * 0.8)\n",
    "    test_length = length - train_length\n",
    "\n",
    "    # train_data = df[:train_length]\n",
    "    # test_data = df[train_length:]\n",
    "    df[:train_length].to_csv(os.path.join(save_prefix, 'scenario_1/train', f'sub_{sub}_vid_{vid}.csv'), index_label='time')\n",
    "    df[train_length:].to_csv(os.path.join(save_prefix, 'scenario_1/test', f'sub_{sub}_vid_{vid}.csv'), index_label='time')"
   ]
  },
  {
   "cell_type": "markdown",
   "id": "57699890-2611-4e99-b441-f219098a9efc",
   "metadata": {},
   "source": [
    "### training on featrues"
   ]
  },
  {
   "cell_type": "code",
   "execution_count": 31,
   "id": "eb8f716a-e817-4920-8955-12b03097d7ef",
   "metadata": {
    "tags": []
   },
   "outputs": [
    {
     "name": "stderr",
     "output_type": "stream",
     "text": [
      "2023-04-24 12:40:06,643 [INFO] Sub 1 Vid 1 RMSE: 0.1851099159556773\n",
      "2023-04-24 12:41:15,597 [INFO] Sub 1 Vid 10 RMSE: 0.025752402418878502\n",
      "2023-04-24 12:41:56,640 [INFO] Sub 1 Vid 13 RMSE: 0.2738819557568927\n",
      "2023-04-24 12:43:02,990 [INFO] Sub 1 Vid 18 RMSE: 0.5946329671266043\n",
      "2023-04-24 12:43:57,380 [INFO] Sub 9 Vid 1 RMSE: 0.29909925614763105\n",
      "2023-04-24 12:44:25,553 [INFO] Sub 9 Vid 10 RMSE: 0.3089960405609499\n",
      "2023-04-24 12:45:04,493 [INFO] Sub 9 Vid 13 RMSE: 0.37788345874908663\n",
      "2023-04-24 12:45:51,406 [INFO] Sub 9 Vid 18 RMSE: 0.8835045665019308\n",
      "2023-04-24 12:46:46,807 [INFO] Sub 17 Vid 1 RMSE: 0.41414103725275375\n",
      "2023-04-24 12:47:44,898 [INFO] Sub 17 Vid 10 RMSE: 0.1164221118684602\n",
      "/usr/lib/python3.10/site-packages/scipy/stats/_stats_py.py:4424: ConstantInputWarning: An input array is constant; the correlation coefficient is not defined.\n",
      "  warnings.warn(stats.ConstantInputWarning(msg))\n",
      "2023-04-24 12:48:15,190 [INFO] Sub 17 Vid 13 RMSE: 0.6138101020146132\n",
      "2023-04-24 12:50:09,563 [INFO] Sub 17 Vid 18 RMSE: 0.38225212599797814\n",
      "2023-04-24 12:50:39,975 [INFO] Sub 26 Vid 1 RMSE: 0.024056933993733452\n",
      "\tWarning: Exception caused CatBoost to fail during training... Skipping this model.\n",
      "\t\tcatboost/libs/metrics/metric.cpp:6376: All train targets are equal\n",
      "2023-04-24 12:50:43,073 [INFO] Sub 26 Vid 10 RMSE: 0.0\n",
      "/usr/lib/python3.10/site-packages/scipy/stats/_stats_py.py:4424: ConstantInputWarning: An input array is constant; the correlation coefficient is not defined.\n",
      "  warnings.warn(stats.ConstantInputWarning(msg))\n",
      "2023-04-24 12:51:48,662 [INFO] Sub 26 Vid 13 RMSE: 0.3616418710660409\n",
      "2023-04-24 12:52:38,298 [INFO] Sub 26 Vid 18 RMSE: 1.1091107346950173\n",
      "2023-04-24 12:53:16,255 [INFO] Sub 32 Vid 1 RMSE: 0.3250091868058582\n",
      "2023-04-24 12:54:25,547 [INFO] Sub 32 Vid 10 RMSE: 0.19735835937820073\n",
      "2023-04-24 12:55:28,127 [INFO] Sub 32 Vid 13 RMSE: 1.0214357287728182\n",
      "2023-04-24 12:56:18,317 [INFO] Sub 32 Vid 18 RMSE: 0.6780533577597778\n",
      "2023-04-24 12:57:40,376 [INFO] Sub 37 Vid 1 RMSE: 0.0058885068334147495\n",
      "/usr/lib/python3.10/site-packages/scipy/stats/_stats_py.py:4424: ConstantInputWarning: An input array is constant; the correlation coefficient is not defined.\n",
      "  warnings.warn(stats.ConstantInputWarning(msg))\n",
      "2023-04-24 12:58:18,442 [INFO] Sub 37 Vid 10 RMSE: 0.7298886793273887\n",
      "2023-04-24 13:00:01,581 [INFO] Sub 37 Vid 13 RMSE: 0.08713240983023463\n",
      "2023-04-24 13:00:50,941 [INFO] Sub 37 Vid 18 RMSE: 1.9355170066425442\n"
     ]
    }
   ],
   "source": [
    "save_prefix = '../splitted_data/feature/'\n",
    "label = 'arousal'\n",
    "\n",
    "subjectID = []\n",
    "videoID = []\n",
    "\n",
    "root_mean_squared_error = []\n",
    "\n",
    "list_predictions = []\n",
    "\n",
    "for sub, vid in validation_pairs:\n",
    "    subjectID.append(sub)\n",
    "    videoID.append(vid)\n",
    "    \n",
    "    train_data = TabularDataset(os.path.join(save_prefix, f'scenario_1/train', f'sub_{sub}_vid_{vid}.csv'))\n",
    "    train_data = train_data.fillna(0)\n",
    "    train_data = train_data.drop(columns=['valence'])\n",
    "    predictor = TabularPredictor(label=label, problem_type='regression', path=f'AutogluonModels/scenario_1/model/feature_sub_vid_dependent/sub_{sub}_vid_{vid}_arousal', verbosity=0).fit(train_data, ag_args_fit={'num_gpus': 1})\n",
    "    \n",
    "    predictor = TabularPredictor.load(f'AutogluonModels/scenario_1/model/feature_sub_vid_dependent/sub_{sub}_vid_{vid}_arousal')\n",
    "\n",
    "    test_data = TabularDataset(os.path.join(save_prefix, f'scenario_1/test', f'sub_{sub}_vid_{vid}.csv'))\n",
    "    y_test = test_data[label]\n",
    "    test_data_nolab = test_data.drop(columns=[label, 'valence'])\n",
    "    test_data_nolab = test_data_nolab.fillna(0)\n",
    "\n",
    "    \n",
    "    y_pred = predictor.predict(test_data_nolab)\n",
    "    subjectID_pred = []\n",
    "    videoID_pred = []\n",
    "    \n",
    "    for i in range(len(y_pred)):\n",
    "        subjectID_pred.append(sub)\n",
    "        videoID_pred.append(vid)\n",
    "    \n",
    "    predictions_dataframe = pd.DataFrame({'subjectID': subjectID_pred, 'videoID': videoID_pred, 'y_true': y_test, 'y_pred': y_pred})\n",
    "    \n",
    "    list_predictions.append(predictions_dataframe)\n",
    "        \n",
    "    rmse = np.sqrt(((y_pred - y_test) ** 2).mean())\n",
    "    logging.info(f'Sub {sub} Vid {vid} RMSE: {rmse}')\n",
    "\n",
    "    root_mean_squared_error.append(rmse)\n",
    "    perf = predictor.evaluate_predictions(y_true=y_test, y_pred=y_pred, auxiliary_metrics=True)\n",
    "\n",
    "evaluation_dataframe = pd.DataFrame({'subjectID': subjectID, 'videoID': videoID, 'root_mean_squared_error': root_mean_squared_error})\n",
    "\n",
    "evaluation_dataframe.to_csv(f'AutogluonModels/scenario_1/output/comparison_feature_rmse_arousal_fillna.csv')\n",
    "pd.concat(list_predictions, axis=0).to_csv(f'AutogluonModels/scenario_1/output/comparison_feature_prediction_arousal_fillna.csv')"
   ]
  },
  {
   "cell_type": "code",
   "execution_count": 28,
   "id": "07863495-04f0-456e-8b07-8cbea712ee52",
   "metadata": {
    "tags": []
   },
   "outputs": [
    {
     "name": "stderr",
     "output_type": "stream",
     "text": [
      "2023-04-24 11:32:08,885 [INFO] Sub 1 Vid 1 RMSE: 0.13708393460961033\n"
     ]
    },
    {
     "name": "stdout",
     "output_type": "stream",
     "text": [
      "0.13708393460961033 -0.13708393460961033\n"
     ]
    },
    {
     "name": "stderr",
     "output_type": "stream",
     "text": [
      "2023-04-24 11:32:52,352 [INFO] Sub 1 Vid 10 RMSE: 0.0031445821566913517\n",
      "/usr/lib/python3.10/site-packages/scipy/stats/_stats_py.py:4424: ConstantInputWarning: An input array is constant; the correlation coefficient is not defined.\n",
      "  warnings.warn(stats.ConstantInputWarning(msg))\n"
     ]
    },
    {
     "name": "stdout",
     "output_type": "stream",
     "text": [
      "0.0031445821566913517 -0.0031445821566913517\n"
     ]
    },
    {
     "name": "stderr",
     "output_type": "stream",
     "text": [
      "2023-04-24 11:33:45,538 [INFO] Sub 1 Vid 13 RMSE: 0.14189398211459692\n",
      "/usr/lib/python3.10/site-packages/scipy/stats/_stats_py.py:4424: ConstantInputWarning: An input array is constant; the correlation coefficient is not defined.\n",
      "  warnings.warn(stats.ConstantInputWarning(msg))\n"
     ]
    },
    {
     "name": "stdout",
     "output_type": "stream",
     "text": [
      "0.14189398211459692 -0.14189398211459692\n"
     ]
    },
    {
     "name": "stderr",
     "output_type": "stream",
     "text": [
      "2023-04-24 11:34:38,149 [INFO] Sub 1 Vid 18 RMSE: 0.41489447238351723\n"
     ]
    },
    {
     "name": "stdout",
     "output_type": "stream",
     "text": [
      "0.41489447238351723 -0.41489447238351723\n"
     ]
    },
    {
     "name": "stderr",
     "output_type": "stream",
     "text": [
      "2023-04-24 11:36:53,651 [INFO] Sub 9 Vid 1 RMSE: 0.7776547223350357\n"
     ]
    },
    {
     "name": "stdout",
     "output_type": "stream",
     "text": [
      "0.7776547223350357 -0.7776547223350357\n"
     ]
    },
    {
     "name": "stderr",
     "output_type": "stream",
     "text": [
      "2023-04-24 11:37:26,169 [INFO] Sub 9 Vid 10 RMSE: 0.14366127903077267\n"
     ]
    },
    {
     "name": "stdout",
     "output_type": "stream",
     "text": [
      "0.14366127903077267 -0.14366127903077267\n"
     ]
    },
    {
     "name": "stderr",
     "output_type": "stream",
     "text": [
      "2023-04-24 11:37:53,425 [INFO] Sub 9 Vid 13 RMSE: 0.13491248436879605\n"
     ]
    },
    {
     "name": "stdout",
     "output_type": "stream",
     "text": [
      "0.13491248436879605 -0.13491248436879605\n"
     ]
    },
    {
     "name": "stderr",
     "output_type": "stream",
     "text": [
      "2023-04-24 11:38:38,625 [INFO] Sub 9 Vid 18 RMSE: 0.3888741586700516\n"
     ]
    },
    {
     "name": "stdout",
     "output_type": "stream",
     "text": [
      "0.3888741586700516 -0.3888741586700516\n"
     ]
    },
    {
     "name": "stderr",
     "output_type": "stream",
     "text": [
      "2023-04-24 11:39:26,328 [INFO] Sub 17 Vid 1 RMSE: 0.08102541187381572\n"
     ]
    },
    {
     "name": "stdout",
     "output_type": "stream",
     "text": [
      "0.08102541187381572 -0.08102541187381572\n"
     ]
    },
    {
     "name": "stderr",
     "output_type": "stream",
     "text": [
      "2023-04-24 11:40:37,424 [INFO] Sub 17 Vid 10 RMSE: 0.2054379948692579\n"
     ]
    },
    {
     "name": "stdout",
     "output_type": "stream",
     "text": [
      "0.2054379948692579 -0.2054379948692579\n"
     ]
    },
    {
     "name": "stderr",
     "output_type": "stream",
     "text": [
      "2023-04-24 11:41:18,534 [INFO] Sub 17 Vid 13 RMSE: 0.41532521837132597\n"
     ]
    },
    {
     "name": "stdout",
     "output_type": "stream",
     "text": [
      "0.41532521837132597 -0.41532521837132597\n"
     ]
    },
    {
     "name": "stderr",
     "output_type": "stream",
     "text": [
      "2023-04-24 11:42:27,041 [INFO] Sub 17 Vid 18 RMSE: 0.19832244388127368\n"
     ]
    },
    {
     "name": "stdout",
     "output_type": "stream",
     "text": [
      "0.19832244388127368 -0.19832244388127368\n"
     ]
    },
    {
     "name": "stderr",
     "output_type": "stream",
     "text": [
      "2023-04-24 11:43:02,497 [INFO] Sub 26 Vid 1 RMSE: 0.05310581549353405\n"
     ]
    },
    {
     "name": "stdout",
     "output_type": "stream",
     "text": [
      "0.05310581549353405 -0.05310581549353405\n"
     ]
    },
    {
     "name": "stderr",
     "output_type": "stream",
     "text": [
      "\tWarning: Exception caused CatBoost to fail during training... Skipping this model.\n",
      "\t\tcatboost/libs/metrics/metric.cpp:6376: All train targets are equal\n",
      "2023-04-24 11:43:05,581 [INFO] Sub 26 Vid 10 RMSE: 0.0\n",
      "/usr/lib/python3.10/site-packages/scipy/stats/_stats_py.py:4424: ConstantInputWarning: An input array is constant; the correlation coefficient is not defined.\n",
      "  warnings.warn(stats.ConstantInputWarning(msg))\n"
     ]
    },
    {
     "name": "stdout",
     "output_type": "stream",
     "text": [
      "0.0 -0.0\n"
     ]
    },
    {
     "name": "stderr",
     "output_type": "stream",
     "text": [
      "2023-04-24 11:43:46,469 [INFO] Sub 26 Vid 13 RMSE: 0.21738049559376033\n"
     ]
    },
    {
     "name": "stdout",
     "output_type": "stream",
     "text": [
      "0.21738049559376033 -0.21738049559376033\n"
     ]
    },
    {
     "name": "stderr",
     "output_type": "stream",
     "text": [
      "2023-04-24 11:44:27,945 [INFO] Sub 26 Vid 18 RMSE: 0.9415684064354306\n"
     ]
    },
    {
     "name": "stdout",
     "output_type": "stream",
     "text": [
      "0.9415684064354306 -0.9415684064354306\n"
     ]
    },
    {
     "name": "stderr",
     "output_type": "stream",
     "text": [
      "2023-04-24 11:44:59,072 [INFO] Sub 32 Vid 1 RMSE: 0.4748489243199611\n"
     ]
    },
    {
     "name": "stdout",
     "output_type": "stream",
     "text": [
      "0.4748489243199611 -0.4748489243199611\n"
     ]
    },
    {
     "name": "stderr",
     "output_type": "stream",
     "text": [
      "2023-04-24 11:45:53,662 [INFO] Sub 32 Vid 10 RMSE: 0.2335365553489719\n"
     ]
    },
    {
     "name": "stdout",
     "output_type": "stream",
     "text": [
      "0.2335365553489719 -0.2335365553489719\n"
     ]
    },
    {
     "name": "stderr",
     "output_type": "stream",
     "text": [
      "2023-04-24 11:47:56,724 [INFO] Sub 32 Vid 13 RMSE: 0.7364821745410827\n"
     ]
    },
    {
     "name": "stdout",
     "output_type": "stream",
     "text": [
      "0.7364821745410827 -0.7364821745410827\n"
     ]
    },
    {
     "name": "stderr",
     "output_type": "stream",
     "text": [
      "2023-04-24 11:49:21,551 [INFO] Sub 32 Vid 18 RMSE: 0.9190222116940195\n"
     ]
    },
    {
     "name": "stdout",
     "output_type": "stream",
     "text": [
      "0.9190222116940195 -0.9190222116940195\n"
     ]
    },
    {
     "name": "stderr",
     "output_type": "stream",
     "text": [
      "2023-04-24 11:50:18,233 [INFO] Sub 37 Vid 1 RMSE: 0.053951835372846216\n",
      "/usr/lib/python3.10/site-packages/scipy/stats/_stats_py.py:4424: ConstantInputWarning: An input array is constant; the correlation coefficient is not defined.\n",
      "  warnings.warn(stats.ConstantInputWarning(msg))\n"
     ]
    },
    {
     "name": "stdout",
     "output_type": "stream",
     "text": [
      "0.053951835372846216 -0.053951835372846216\n"
     ]
    },
    {
     "name": "stderr",
     "output_type": "stream",
     "text": [
      "2023-04-24 11:51:18,317 [INFO] Sub 37 Vid 10 RMSE: 0.012510618570989337\n"
     ]
    },
    {
     "name": "stdout",
     "output_type": "stream",
     "text": [
      "0.012510618570989337 -0.012510618570989337\n"
     ]
    },
    {
     "name": "stderr",
     "output_type": "stream",
     "text": [
      "\tWarning: Exception caused CatBoost to fail during training... Skipping this model.\n",
      "\t\tcatboost/libs/metrics/metric.cpp:6376: All train targets are equal\n",
      "2023-04-24 11:51:21,559 [INFO] Sub 37 Vid 13 RMSE: 0.01872006084301278\n",
      "/usr/lib/python3.10/site-packages/scipy/stats/_stats_py.py:4424: ConstantInputWarning: An input array is constant; the correlation coefficient is not defined.\n",
      "  warnings.warn(stats.ConstantInputWarning(msg))\n"
     ]
    },
    {
     "name": "stdout",
     "output_type": "stream",
     "text": [
      "0.01872006084301278 -0.01872006084301278\n"
     ]
    },
    {
     "name": "stderr",
     "output_type": "stream",
     "text": [
      "2023-04-24 11:52:30,458 [INFO] Sub 37 Vid 18 RMSE: 0.9654805363561625\n"
     ]
    },
    {
     "name": "stdout",
     "output_type": "stream",
     "text": [
      "0.9654805363561625 -0.9654805363561625\n"
     ]
    }
   ],
   "source": [
    "save_prefix = '../splitted_data/feature/'\n",
    "label = 'valence'\n",
    "\n",
    "subjectID = []\n",
    "videoID = []\n",
    "\n",
    "root_mean_squared_error = []\n",
    "\n",
    "list_predictions = []\n",
    "\n",
    "for sub, vid in validation_pairs:\n",
    "    subjectID.append(sub)\n",
    "    videoID.append(vid)\n",
    "    \n",
    "    train_data = TabularDataset(os.path.join(save_prefix, f'scenario_1/train', f'sub_{sub}_vid_{vid}.csv'))\n",
    "    train_data = train_data.fillna(0)\n",
    "    train_data = train_data.drop(columns=['arousal'])\n",
    "    predictor = TabularPredictor(label=label, problem_type='regression', path=f'AutogluonModels/scenario_1/model/feature_sub_vid_dependent/sub_{sub}_vid_{vid}_valence', verbosity=0).fit(train_data, ag_args_fit={'num_gpus': 1})\n",
    "    \n",
    "    predictor = TabularPredictor.load(f'AutogluonModels/scenario_1/model/feature_sub_vid_dependent/sub_{sub}_vid_{vid}_valence')\n",
    "\n",
    "    test_data = TabularDataset(os.path.join(save_prefix, f'scenario_1/test', f'sub_{sub}_vid_{vid}.csv'))\n",
    "    y_test = test_data[label]\n",
    "    test_data_nolab = test_data.drop(columns=[label, 'arousal'])\n",
    "    test_data_nolab = test_data_nolab.fillna(0)\n",
    "    \n",
    "    y_pred = predictor.predict(test_data_nolab)\n",
    "    subjectID_pred = []\n",
    "    videoID_pred = []\n",
    "    \n",
    "    for i in range(len(y_pred)):\n",
    "        subjectID_pred.append(sub)\n",
    "        videoID_pred.append(vid)\n",
    "    \n",
    "    predictions_dataframe = pd.DataFrame({'subjectID': subjectID_pred, 'videoID': videoID_pred, 'y_true': y_test, 'y_pred': y_pred})\n",
    "    \n",
    "    list_predictions.append(predictions_dataframe)\n",
    "        \n",
    "    rmse = np.sqrt(((y_pred - y_test) ** 2).mean())\n",
    "    logging.info(f'Sub {sub} Vid {vid} RMSE: {rmse}')\n",
    "\n",
    "    root_mean_squared_error.append(rmse)\n",
    "    perf = predictor.evaluate_predictions(y_true=y_test, y_pred=y_pred, auxiliary_metrics=True)\n",
    "    print(rmse, perf['root_mean_squared_error'])\n",
    "\n",
    "evaluation_dataframe = pd.DataFrame({'subjectID': subjectID, 'videoID': videoID, 'root_mean_squared_error': root_mean_squared_error})\n",
    "\n",
    "evaluation_dataframe.to_csv(f'AutogluonModels/scenario_1/output/comparison_feature_rmse_valence.csv')\n",
    "pd.concat(list_predictions, axis=0).to_csv(f'AutogluonModels/scenario_1/output/comparison_feature_prediction_valence.csv')"
   ]
  },
  {
   "cell_type": "markdown",
   "id": "39d606b5-47e6-4ed2-88ab-a7916e06daac",
   "metadata": {},
   "source": [
    "### training on raw data"
   ]
  },
  {
   "cell_type": "code",
   "execution_count": 29,
   "id": "864c2e55-4b9d-4670-9602-d2b3d62d8e99",
   "metadata": {
    "tags": []
   },
   "outputs": [
    {
     "name": "stderr",
     "output_type": "stream",
     "text": [
      "2023-04-24 11:53:19,636 [INFO] Sub 1 Vid 1 RMSE: 0.09541738891226419\n",
      "/usr/lib/python3.10/site-packages/scipy/stats/_stats_py.py:4424: ConstantInputWarning: An input array is constant; the correlation coefficient is not defined.\n",
      "  warnings.warn(stats.ConstantInputWarning(msg))\n",
      "2023-04-24 11:53:59,207 [INFO] Sub 1 Vid 10 RMSE: 0.007864991204704762\n",
      "2023-04-24 11:54:45,725 [INFO] Sub 1 Vid 13 RMSE: 0.05281377589840203\n",
      "2023-04-24 11:55:46,467 [INFO] Sub 1 Vid 18 RMSE: 0.5432367325913394\n",
      "2023-04-24 11:56:50,694 [INFO] Sub 9 Vid 1 RMSE: 0.1598567254748051\n",
      "2023-04-24 11:59:10,513 [INFO] Sub 9 Vid 10 RMSE: 0.01492970394068426\n",
      "2023-04-24 12:00:17,698 [INFO] Sub 9 Vid 13 RMSE: 0.05988446074520219\n",
      "2023-04-24 12:01:22,537 [INFO] Sub 9 Vid 18 RMSE: 2.059422580378787\n",
      "2023-04-24 12:02:03,687 [INFO] Sub 17 Vid 1 RMSE: 0.26978245970870235\n",
      "2023-04-24 12:02:49,212 [INFO] Sub 17 Vid 10 RMSE: 9.346008322808076e-08\n",
      "/usr/lib/python3.10/site-packages/scipy/stats/_stats_py.py:4424: ConstantInputWarning: An input array is constant; the correlation coefficient is not defined.\n",
      "  warnings.warn(stats.ConstantInputWarning(msg))\n",
      "2023-04-24 12:03:25,500 [INFO] Sub 17 Vid 13 RMSE: 0.25276416519163347\n",
      "2023-04-24 12:04:39,264 [INFO] Sub 17 Vid 18 RMSE: 0.7680388698469687\n",
      "2023-04-24 12:05:10,573 [INFO] Sub 26 Vid 1 RMSE: 0.023417878614193453\n",
      "/usr/lib/python3.10/site-packages/scipy/stats/_stats_py.py:4424: ConstantInputWarning: An input array is constant; the correlation coefficient is not defined.\n",
      "  warnings.warn(stats.ConstantInputWarning(msg))\n",
      "\tWarning: Exception caused CatBoost to fail during training... Skipping this model.\n",
      "\t\tcatboost/libs/metrics/metric.cpp:6376: All train targets are equal\n",
      "2023-04-24 12:05:14,697 [INFO] Sub 26 Vid 10 RMSE: 0.0\n",
      "/usr/lib/python3.10/site-packages/scipy/stats/_stats_py.py:4424: ConstantInputWarning: An input array is constant; the correlation coefficient is not defined.\n",
      "  warnings.warn(stats.ConstantInputWarning(msg))\n",
      "2023-04-24 12:06:37,012 [INFO] Sub 26 Vid 13 RMSE: 0.3153131925605705\n",
      "/usr/lib/python3.10/site-packages/scipy/stats/_stats_py.py:4424: ConstantInputWarning: An input array is constant; the correlation coefficient is not defined.\n",
      "  warnings.warn(stats.ConstantInputWarning(msg))\n",
      "2023-04-24 12:07:25,075 [INFO] Sub 26 Vid 18 RMSE: 1.5986346941684215\n",
      "2023-04-24 12:08:22,669 [INFO] Sub 32 Vid 1 RMSE: 0.6755115384402749\n",
      "2023-04-24 12:09:24,819 [INFO] Sub 32 Vid 10 RMSE: 0.19804329776443547\n",
      "/usr/lib/python3.10/site-packages/scipy/stats/_stats_py.py:4424: ConstantInputWarning: An input array is constant; the correlation coefficient is not defined.\n",
      "  warnings.warn(stats.ConstantInputWarning(msg))\n",
      "2023-04-24 12:10:14,093 [INFO] Sub 32 Vid 13 RMSE: 0.8461865952416137\n",
      "2023-04-24 12:12:17,372 [INFO] Sub 32 Vid 18 RMSE: 0.518300421856116\n",
      "/usr/lib/python3.10/site-packages/scipy/stats/_stats_py.py:4424: ConstantInputWarning: An input array is constant; the correlation coefficient is not defined.\n",
      "  warnings.warn(stats.ConstantInputWarning(msg))\n",
      "2023-04-24 12:13:07,136 [INFO] Sub 37 Vid 1 RMSE: 6.452330353811461e-05\n",
      "/usr/lib/python3.10/site-packages/scipy/stats/_stats_py.py:4424: ConstantInputWarning: An input array is constant; the correlation coefficient is not defined.\n",
      "  warnings.warn(stats.ConstantInputWarning(msg))\n",
      "2023-04-24 12:14:11,798 [INFO] Sub 37 Vid 10 RMSE: 0.09885862958525297\n",
      "2023-04-24 12:17:24,623 [INFO] Sub 37 Vid 13 RMSE: 0.08738102807701803\n",
      "/usr/lib/python3.10/site-packages/scipy/stats/_stats_py.py:4424: ConstantInputWarning: An input array is constant; the correlation coefficient is not defined.\n",
      "  warnings.warn(stats.ConstantInputWarning(msg))\n",
      "2023-04-24 12:18:41,345 [INFO] Sub 37 Vid 18 RMSE: 2.144067994158314\n"
     ]
    }
   ],
   "source": [
    "save_prefix = '../splitted_data/raw/'\n",
    "label = 'arousal'\n",
    "\n",
    "subjectID = []\n",
    "videoID = []\n",
    "\n",
    "root_mean_squared_error = []\n",
    "\n",
    "list_predictions = []\n",
    "\n",
    "for sub, vid in validation_pairs:\n",
    "    subjectID.append(sub)\n",
    "    videoID.append(vid)\n",
    "    \n",
    "    train_data = TabularDataset(os.path.join(save_prefix, f'scenario_1/train', f'sub_{sub}_vid_{vid}.csv'))\n",
    "    train_data = train_data.fillna(0)\n",
    "    train_data = train_data.drop(columns=['valence'])\n",
    "    predictor = TabularPredictor(label=label, problem_type='regression', path=f'AutogluonModels/scenario_1/model/raw_sub_vid_dependent/sub_{sub}_vid_{vid}_arousal', verbosity=0).fit(train_data, ag_args_fit={'num_gpus': 1})\n",
    "    \n",
    "    predictor = TabularPredictor.load(f'AutogluonModels/scenario_1/model/raw_sub_vid_dependent/sub_{sub}_vid_{vid}_arousal')\n",
    "\n",
    "    test_data = TabularDataset(os.path.join(save_prefix, f'scenario_1/test', f'sub_{sub}_vid_{vid}.csv'))\n",
    "    y_test = test_data[label]\n",
    "    test_data_nolab = test_data.drop(columns=[label, 'valence'])\n",
    "    test_data_nolab = test_data_nolab.fillna(0)\n",
    "\n",
    "    \n",
    "    y_pred = predictor.predict(test_data_nolab)\n",
    "    subjectID_pred = []\n",
    "    videoID_pred = []\n",
    "    \n",
    "    for i in range(len(y_pred)):\n",
    "        subjectID_pred.append(sub)\n",
    "        videoID_pred.append(vid)\n",
    "    \n",
    "    predictions_dataframe = pd.DataFrame({'subjectID': subjectID_pred, 'videoID': videoID_pred, 'y_true': y_test, 'y_pred': y_pred})\n",
    "    \n",
    "    list_predictions.append(predictions_dataframe)\n",
    "        \n",
    "    rmse = np.sqrt(((y_pred - y_test) ** 2).mean())\n",
    "    logging.info(f'Sub {sub} Vid {vid} RMSE: {rmse}')\n",
    "\n",
    "    root_mean_squared_error.append(rmse)\n",
    "    perf = predictor.evaluate_predictions(y_true=y_test, y_pred=y_pred, auxiliary_metrics=True)\n",
    "\n",
    "evaluation_dataframe = pd.DataFrame({'subjectID': subjectID, 'videoID': videoID, 'root_mean_squared_error': root_mean_squared_error})\n",
    "\n",
    "evaluation_dataframe.to_csv(f'AutogluonModels/scenario_1/output/comparison_raw_rmse_arousal.csv')\n",
    "pd.concat(list_predictions, axis=0).to_csv(f'AutogluonModels/scenario_1/output/comparison_raw_prediction_arousal.csv')"
   ]
  },
  {
   "cell_type": "code",
   "execution_count": 30,
   "id": "fd797fad-3e3f-4a7e-9982-8b0ffd856c1a",
   "metadata": {
    "tags": []
   },
   "outputs": [
    {
     "name": "stderr",
     "output_type": "stream",
     "text": [
      "2023-04-24 12:19:37,032 [INFO] Sub 1 Vid 1 RMSE: 0.10441378924663655\n",
      "2023-04-24 12:20:08,695 [INFO] Sub 1 Vid 10 RMSE: 1.258850099716824e-07\n",
      "/usr/lib/python3.10/site-packages/scipy/stats/_stats_py.py:4424: ConstantInputWarning: An input array is constant; the correlation coefficient is not defined.\n",
      "  warnings.warn(stats.ConstantInputWarning(msg))\n",
      "2023-04-24 12:20:38,644 [INFO] Sub 1 Vid 13 RMSE: 0.0033179392000418726\n",
      "/usr/lib/python3.10/site-packages/scipy/stats/_stats_py.py:4424: ConstantInputWarning: An input array is constant; the correlation coefficient is not defined.\n",
      "  warnings.warn(stats.ConstantInputWarning(msg))\n",
      "2023-04-24 12:22:07,759 [INFO] Sub 1 Vid 18 RMSE: 0.2827003011558666\n",
      "2023-04-24 12:22:48,204 [INFO] Sub 9 Vid 1 RMSE: 0.12338436928655945\n",
      "2023-04-24 12:23:25,962 [INFO] Sub 9 Vid 10 RMSE: 0.0020498669891767405\n",
      "/usr/lib/python3.10/site-packages/scipy/stats/_stats_py.py:4424: ConstantInputWarning: An input array is constant; the correlation coefficient is not defined.\n",
      "  warnings.warn(stats.ConstantInputWarning(msg))\n",
      "2023-04-24 12:24:13,704 [INFO] Sub 9 Vid 13 RMSE: 0.11736522555044601\n",
      "2023-04-24 12:24:55,098 [INFO] Sub 9 Vid 18 RMSE: 0.4605047966766171\n",
      "2023-04-24 12:26:01,311 [INFO] Sub 17 Vid 1 RMSE: 0.15526484703798607\n",
      "2023-04-24 12:26:45,297 [INFO] Sub 17 Vid 10 RMSE: 0.0006552635189460095\n",
      "/usr/lib/python3.10/site-packages/scipy/stats/_stats_py.py:4424: ConstantInputWarning: An input array is constant; the correlation coefficient is not defined.\n",
      "  warnings.warn(stats.ConstantInputWarning(msg))\n",
      "2023-04-24 12:27:41,741 [INFO] Sub 17 Vid 13 RMSE: 0.24694876830721615\n",
      "2023-04-24 12:28:44,065 [INFO] Sub 17 Vid 18 RMSE: 0.2215710932995096\n",
      "2023-04-24 12:29:55,450 [INFO] Sub 26 Vid 1 RMSE: 0.05182545139414848\n",
      "\tWarning: Exception caused CatBoost to fail during training... Skipping this model.\n",
      "\t\tcatboost/libs/metrics/metric.cpp:6376: All train targets are equal\n",
      "2023-04-24 12:29:59,573 [INFO] Sub 26 Vid 10 RMSE: 0.0\n",
      "/usr/lib/python3.10/site-packages/scipy/stats/_stats_py.py:4424: ConstantInputWarning: An input array is constant; the correlation coefficient is not defined.\n",
      "  warnings.warn(stats.ConstantInputWarning(msg))\n",
      "2023-04-24 12:30:32,013 [INFO] Sub 26 Vid 13 RMSE: 0.2626252741758882\n",
      "2023-04-24 12:31:29,453 [INFO] Sub 26 Vid 18 RMSE: 0.5011443834136146\n",
      "2023-04-24 12:32:43,309 [INFO] Sub 32 Vid 1 RMSE: 0.5292633519955109\n",
      "2023-04-24 12:33:23,947 [INFO] Sub 32 Vid 10 RMSE: 0.041961977530502396\n",
      "2023-04-24 12:34:06,174 [INFO] Sub 32 Vid 13 RMSE: 0.8238066582939259\n",
      "/usr/lib/python3.10/site-packages/scipy/stats/_stats_py.py:4424: ConstantInputWarning: An input array is constant; the correlation coefficient is not defined.\n",
      "  warnings.warn(stats.ConstantInputWarning(msg))\n",
      "2023-04-24 12:35:54,856 [INFO] Sub 32 Vid 18 RMSE: 0.8013923774014078\n",
      "2023-04-24 12:37:04,557 [INFO] Sub 37 Vid 1 RMSE: 0.0\n",
      "/usr/lib/python3.10/site-packages/scipy/stats/_stats_py.py:4424: ConstantInputWarning: An input array is constant; the correlation coefficient is not defined.\n",
      "  warnings.warn(stats.ConstantInputWarning(msg))\n",
      "2023-04-24 12:38:04,441 [INFO] Sub 37 Vid 10 RMSE: 0.006478685812608418\n",
      "\tWarning: Exception caused CatBoost to fail during training... Skipping this model.\n",
      "\t\tcatboost/libs/metrics/metric.cpp:6376: All train targets are equal\n",
      "2023-04-24 12:38:08,563 [INFO] Sub 37 Vid 13 RMSE: 0.01872006084301278\n",
      "/usr/lib/python3.10/site-packages/scipy/stats/_stats_py.py:4424: ConstantInputWarning: An input array is constant; the correlation coefficient is not defined.\n",
      "  warnings.warn(stats.ConstantInputWarning(msg))\n",
      "2023-04-24 12:39:12,265 [INFO] Sub 37 Vid 18 RMSE: 1.2667442292679854\n"
     ]
    }
   ],
   "source": [
    "save_prefix = '../splitted_data/raw/'\n",
    "label = 'valence'\n",
    "\n",
    "subjectID = []\n",
    "videoID = []\n",
    "\n",
    "root_mean_squared_error = []\n",
    "\n",
    "list_predictions = []\n",
    "\n",
    "for sub, vid in validation_pairs:\n",
    "    subjectID.append(sub)\n",
    "    videoID.append(vid)\n",
    "    \n",
    "    train_data = TabularDataset(os.path.join(save_prefix, f'scenario_1/train', f'sub_{sub}_vid_{vid}.csv'))\n",
    "    train_data = train_data.fillna(0)\n",
    "    train_data = train_data.drop(columns=['arousal'])\n",
    "    predictor = TabularPredictor(label=label, problem_type='regression', path=f'AutogluonModels/scenario_1/model/raw_sub_vid_dependent/sub_{sub}_vid_{vid}_valence', verbosity=0).fit(train_data, ag_args_fit={'num_gpus': 1})\n",
    "    \n",
    "    predictor = TabularPredictor.load(f'AutogluonModels/scenario_1/model/raw_sub_vid_dependent/sub_{sub}_vid_{vid}_valence')\n",
    "\n",
    "    test_data = TabularDataset(os.path.join(save_prefix, f'scenario_1/test', f'sub_{sub}_vid_{vid}.csv'))\n",
    "    y_test = test_data[label]\n",
    "    test_data_nolab = test_data.drop(columns=[label, 'arousal'])\n",
    "    test_data_nolab = test_data_nolab.fillna(0)\n",
    "\n",
    "    \n",
    "    y_pred = predictor.predict(test_data_nolab)\n",
    "    subjectID_pred = []\n",
    "    videoID_pred = []\n",
    "    \n",
    "    for i in range(len(y_pred)):\n",
    "        subjectID_pred.append(sub)\n",
    "        videoID_pred.append(vid)\n",
    "    \n",
    "    predictions_dataframe = pd.DataFrame({'subjectID': subjectID_pred, 'videoID': videoID_pred, 'y_true': y_test, 'y_pred': y_pred})\n",
    "    \n",
    "    list_predictions.append(predictions_dataframe)\n",
    "        \n",
    "    rmse = np.sqrt(((y_pred - y_test) ** 2).mean())\n",
    "    logging.info(f'Sub {sub} Vid {vid} RMSE: {rmse}')\n",
    "\n",
    "    root_mean_squared_error.append(rmse)\n",
    "    perf = predictor.evaluate_predictions(y_true=y_test, y_pred=y_pred, auxiliary_metrics=True)\n",
    "\n",
    "evaluation_dataframe = pd.DataFrame({'subjectID': subjectID, 'videoID': videoID, 'root_mean_squared_error': root_mean_squared_error})\n",
    "\n",
    "evaluation_dataframe.to_csv(f'AutogluonModels/scenario_1/output/comparison_raw_rmse_valence.csv')\n",
    "pd.concat(list_predictions, axis=0).to_csv(f'AutogluonModels/scenario_1/output/comparison_raw_prediction_valence.csv')"
   ]
  },
  {
   "cell_type": "markdown",
   "id": "7fabaebe-f491-484f-8c29-6578db664dec",
   "metadata": {},
   "source": [
    "### comparison"
   ]
  },
  {
   "cell_type": "code",
   "execution_count": 33,
   "id": "ee71063a-2537-406f-bfb4-acef0b4f8e5a",
   "metadata": {
    "tags": []
   },
   "outputs": [
    {
     "data": {
      "image/png": "[encoded data removed]",
      "text/plain": [
       "<Figure size 800x400 with 2 Axes>"
      ]
     },
     "metadata": {},
     "output_type": "display_data"
    }
   ],
   "source": [
    "import matplotlib.pyplot as plt\n",
    "\n",
    "s1 = S1()\n",
    "\n",
    "validation_pairs = []\n",
    "for sub in s1.train_subs[::5]:\n",
    "    for vid in s1.train_vids[::2]:\n",
    "        validation_pairs.append((sub, vid))\n",
    "\n",
    "raw_rmse_arousal = pd.read_csv('AutogluonModels/scenario_1/output/comparison_raw_rmse_arousal.csv')\n",
    "raw_rmse_valence = pd.read_csv('AutogluonModels/scenario_1/output/comparison_raw_rmse_valence.csv')\n",
    "feature_rmse_arousal = pd.read_csv('AutogluonModels/scenario_1/output/comparison_feature_rmse_arousal.csv')\n",
    "feature_rmse_valence = pd.read_csv('AutogluonModels/scenario_1/output/comparison_feature_rmse_valence.csv')\n",
    "\n",
    "fig, axes = plt.subplots(1, 2, figsize=(8, 4))\n",
    "axes = axes.flatten()\n",
    "axes[0].set_ylabel('rmse')\n",
    "axes[0].plot(raw_rmse_arousal['root_mean_squared_error'], 'o-', linewidth=0.8, label='raw_rmse_arousal')\n",
    "axes[0].plot(feature_rmse_arousal['root_mean_squared_error'], 'o-', linewidth=0.8, label='feature_rmse_arousal')\n",
    "axes[0].legend()\n",
    "\n",
    "axes[1].set_ylabel('rmse')\n",
    "axes[1].plot(raw_rmse_valence['root_mean_squared_error'], 'o-', linewidth=0.8, label='raw_rmse_valence')\n",
    "axes[1].plot(feature_rmse_valence['root_mean_squared_error'], 'o-', linewidth=0.8, label='feature_rmse_valence')\n",
    "\n",
    "plt.legend()\n",
    "plt.tight_layout()\n",
    "plt.show()"
   ]
  },
  {
   "cell_type": "code",
   "execution_count": 34,
   "id": "3985f078-5018-49d9-929e-d5719047956a",
   "metadata": {
    "tags": []
   },
   "outputs": [
    {
     "data": {
      "text/plain": [
       "(0.4495746558801385, 0.447199111393996)"
      ]
     },
     "execution_count": 34,
     "metadata": {},
     "output_type": "execute_result"
    }
   ],
   "source": [
    "raw_rmse_arousal['root_mean_squared_error'].mean(), feature_rmse_arousal['root_mean_squared_error'].mean()"
   ]
  },
  {
   "cell_type": "code",
   "execution_count": 35,
   "id": "1d6e167f-2ecb-4750-ae16-5500cd8e279b",
   "metadata": {
    "tags": []
   },
   "outputs": [
    {
     "data": {
      "text/plain": [
       "(0.25092245151177567, 0.3195349299681048)"
      ]
     },
     "execution_count": 35,
     "metadata": {},
     "output_type": "execute_result"
    }
   ],
   "source": [
    "raw_rmse_valence['root_mean_squared_error'].mean(), feature_rmse_valence['root_mean_squared_error'].mean()"
   ]
  },
  {
   "cell_type": "markdown",
   "id": "e6f65dcb-2e14-4e77-85be-47b18ee462f6",
   "metadata": {},
   "source": [
    "### multi-label predictor on raw data"
   ]
  },
  {
   "cell_type": "code",
   "execution_count": 36,
   "id": "50569259-6535-42d1-a4da-94530b1aefe2",
   "metadata": {
    "tags": []
   },
   "outputs": [],
   "source": [
    "from multilabel import MultilabelPredictor"
   ]
  },
  {
   "cell_type": "code",
   "execution_count": null,
   "id": "b6477ca6-25af-4bca-96ad-65e444f1dc8c",
   "metadata": {
    "tags": []
   },
   "outputs": [
    {
     "name": "stdout",
     "output_type": "stream",
     "text": [
      "Fitting TabularPredictor for label: arousal ...\n",
      "Fitting TabularPredictor for label: valence ...\n",
      "MultilabelPredictor saved to disk. Load with: MultilabelPredictor.load('AutogluonModels/scenario_1/model/multilabel_raw_sub_vid_dependent/sub_1_vid_1_multilabel/')\n",
      "Predicting with TabularPredictor for label: arousal ...\n",
      "Predicting with TabularPredictor for label: valence ...\n",
      "Evaluating TabularPredictor for label: arousal ...\n"
     ]
    },
    {
     "name": "stderr",
     "output_type": "stream",
     "text": [
      "/home/celia/.local/lib/python3.10/site-packages/autogluon/tabular/predictor/predictor.py:1420: FutureWarning: Calling `predictor.predict_proba` when problem_type=regression will raise an AssertionError starting in AutoGluon v0.8. Please call `predictor.predict` instead.\n",
      "  warnings.warn(\n"
     ]
    },
    {
     "name": "stdout",
     "output_type": "stream",
     "text": [
      "Evaluating TabularPredictor for label: valence ...\n",
      "{'arousal': {'root_mean_squared_error': -0.09556738382839565, 'mean_squared_error': -0.009133124851803898, 'mean_absolute_error': -0.07120011433562139, 'r2': -1.165431264091069, 'pearsonr': 0.2896373112143108, 'median_absolute_error': -0.019417205810547067}, 'valence': {'root_mean_squared_error': -0.10434763780894651, 'mean_squared_error': -0.010888429516307085, 'mean_absolute_error': -0.07334817833704162, 'r2': -0.3773273043289467, 'pearsonr': 0.3586073308575066, 'median_absolute_error': -0.07114985275268548}}\n",
      "Fitting TabularPredictor for label: arousal ...\n"
     ]
    },
    {
     "name": "stderr",
     "output_type": "stream",
     "text": [
      "/home/celia/.local/lib/python3.10/site-packages/autogluon/tabular/predictor/predictor.py:1420: FutureWarning: Calling `predictor.predict_proba` when problem_type=regression will raise an AssertionError starting in AutoGluon v0.8. Please call `predictor.predict` instead.\n",
      "  warnings.warn(\n"
     ]
    },
    {
     "name": "stdout",
     "output_type": "stream",
     "text": [
      "Fitting TabularPredictor for label: valence ...\n",
      "MultilabelPredictor saved to disk. Load with: MultilabelPredictor.load('AutogluonModels/scenario_1/model/multilabel_raw_sub_vid_dependent/sub_1_vid_10_multilabel/')\n",
      "Predicting with TabularPredictor for label: arousal ...\n",
      "Predicting with TabularPredictor for label: valence ...\n",
      "Evaluating TabularPredictor for label: arousal ...\n",
      "Evaluating TabularPredictor for label: valence ...\n"
     ]
    },
    {
     "name": "stderr",
     "output_type": "stream",
     "text": [
      "/home/celia/.local/lib/python3.10/site-packages/autogluon/tabular/predictor/predictor.py:1420: FutureWarning: Calling `predictor.predict_proba` when problem_type=regression will raise an AssertionError starting in AutoGluon v0.8. Please call `predictor.predict` instead.\n",
      "  warnings.warn(\n",
      "/usr/lib/python3.10/site-packages/scipy/stats/_stats_py.py:4424: ConstantInputWarning: An input array is constant; the correlation coefficient is not defined.\n",
      "  warnings.warn(stats.ConstantInputWarning(msg))\n",
      "/home/celia/.local/lib/python3.10/site-packages/autogluon/tabular/predictor/predictor.py:1420: FutureWarning: Calling `predictor.predict_proba` when problem_type=regression will raise an AssertionError starting in AutoGluon v0.8. Please call `predictor.predict` instead.\n",
      "  warnings.warn(\n",
      "/usr/lib/python3.10/site-packages/scipy/stats/_stats_py.py:4424: ConstantInputWarning: An input array is constant; the correlation coefficient is not defined.\n",
      "  warnings.warn(stats.ConstantInputWarning(msg))\n"
     ]
    },
    {
     "name": "stdout",
     "output_type": "stream",
     "text": [
      "{'arousal': {'root_mean_squared_error': -0.007791062651507217, 'mean_squared_error': -6.070065723971066e-05, 'mean_absolute_error': -0.007592787481080709, 'r2': -18.900205156413687, 'pearsonr': nan, 'median_absolute_error': -0.00799998855590811}, 'valence': {'root_mean_squared_error': -1.258850099716824e-07, 'mean_squared_error': -1.5847035735570575e-14, 'mean_absolute_error': -1.258850099716824e-07, 'r2': 0.0, 'pearsonr': nan, 'median_absolute_error': -1.258850099716824e-07}}\n",
      "Fitting TabularPredictor for label: arousal ...\n",
      "Fitting TabularPredictor for label: valence ...\n"
     ]
    }
   ],
   "source": [
    "save_prefix = '../splitted_data/raw/'\n",
    "\n",
    "labels = ['arousal', 'valence']\n",
    "s1 = S1()\n",
    "\n",
    "subjectID = []\n",
    "videoID = []\n",
    "\n",
    "# root_mean_squared_error = []\n",
    "list_predictions = []\n",
    "arousal_rmse = []\n",
    "valence_rmse = []\n",
    "for sub, vid in validation_pairs:\n",
    "    subjectID.append(sub)\n",
    "    videoID.append(vid)\n",
    "    \n",
    "    train_data = TabularDataset(os.path.join(save_prefix, f'scenario_1/train', f'sub_{sub}_vid_{vid}.csv'))\n",
    "    multi_predictor = MultilabelPredictor(labels=labels, problem_types=['regression', 'regression'], path=f'AutogluonModels/scenario_1/model/multilabel_raw_sub_vid_dependent/sub_{sub}_vid_{vid}_multilabel',\n",
    "                                          eval_metrics=['root_mean_squared_error', 'rmse'], verbosity=0).fit(train_data, ag_args_fit={'num_gpus': 1}, presets='best_quality')\n",
    "\n",
    "    multi_predictor = MultilabelPredictor.load(f'AutogluonModels/scenario_1/model/multilabel_raw_sub_vid_dependent/sub_{sub}_vid_{vid}_multilabel')\n",
    "    \n",
    "    test_data = TabularDataset(os.path.join(save_prefix, f'scenario_1/test', f'sub_{sub}_vid_{vid}.csv'))\n",
    "    test_data_nolab = test_data.drop(columns=labels)\n",
    "    \n",
    "    predictions = multi_predictor.predict(test_data_nolab)\n",
    "\n",
    "    subjectID_pred = []\n",
    "    videoID_pred = []\n",
    "    \n",
    "    for i in range(len(predictions)):\n",
    "        subjectID_pred.append(sub)\n",
    "        videoID_pred.append(vid)\n",
    "    arousal_rmse.append(np.sqrt(((predictions['arousal'] - test_data['arousal']) ** 2).mean()))\n",
    "    valence_rmse.append(np.sqrt(((predictions['valence'] - test_data['valence']) ** 2).mean()))\n",
    "    predictions.insert(len(predictions.columns), 'arousal_true', test_data['arousal'])\n",
    "    predictions.insert(len(predictions.columns), 'valence_true', test_data['valence'])\n",
    "    \n",
    "    list_predictions.append(predictions)\n",
    "    \n",
    "    evaluations = multi_predictor.evaluate(test_data)\n",
    "    print(evaluations)\n",
    "    \n",
    "evaluation_dataframe = pd.DataFrame({'subjectID': subjectID, 'videoID': videoID, 'arousal_rmse': arousal_rmse, 'valence_rmse': valence_rmse})\n",
    "evaluation_dataframe.to_csv(f'AutogluonModels/scenario_1/output/comparison_raw_multi_label_rmse.csv')\n",
    "pd.concat(list_predictions, axis=0).to_csv(f'AutogluonModels/scenario_1/output/comparison_raw_multi_label_predictions.csv')"
   ]
  },
  {
   "cell_type": "code",
   "execution_count": null,
   "id": "912afe79-8e61-4e43-be6e-d1c73c59157e",
   "metadata": {
    "tags": []
   },
   "outputs": [],
   "source": [
    "save_prefix = '../splitted_data/raw/'\n",
    "\n",
    "labels = ['valence', 'arousal']\n",
    "s1 = S1()\n",
    "\n",
    "subjectID = []\n",
    "videoID = []\n",
    "\n",
    "# root_mean_squared_error = []\n",
    "list_predictions = []\n",
    "arousal_rmse = []\n",
    "valence_rmse = []\n",
    "for sub, vid in validation_pairs:\n",
    "    subjectID.append(sub)\n",
    "    videoID.append(vid)\n",
    "    \n",
    "    train_data = TabularDataset(os.path.join(save_prefix, f'scenario_1/train', f'sub_{sub}_vid_{vid}.csv'))\n",
    "    multi_predictor = MultilabelPredictor(labels=labels, problem_types=['regression', 'regression'], path=f'AutogluonModels/scenario_1/model/multilabel_raw_sub_vid_dependent/sub_{sub}_vid_{vid}_multilabel_flip',\n",
    "                                          eval_metrics=['root_mean_squared_error', 'rmse'], verbosity=0).fit(train_data, ag_args_fit={'num_gpus': 1}, presets='best_quality')\n",
    "\n",
    "    multi_predictor = MultilabelPredictor.load(f'AutogluonModels/scenario_1/model/multilabel_raw_sub_vid_dependent/sub_{sub}_vid_{vid}_multilabel_flip')\n",
    "    \n",
    "    test_data = TabularDataset(os.path.join(save_prefix, f'scenario_1/test', f'sub_{sub}_vid_{vid}.csv'))\n",
    "    test_data_nolab = test_data.drop(columns=labels)\n",
    "    \n",
    "    predictions = multi_predictor.predict(test_data_nolab)\n",
    "\n",
    "    subjectID_pred = []\n",
    "    videoID_pred = []\n",
    "    \n",
    "    for i in range(len(predictions)):\n",
    "        subjectID_pred.append(sub)\n",
    "        videoID_pred.append(vid)\n",
    "    arousal_rmse.append(np.sqrt(((predictions['arousal'] - test_data['arousal']) ** 2).mean()))\n",
    "    valence_rmse.append(np.sqrt(((predictions['valence'] - test_data['valence']) ** 2).mean()))\n",
    "    predictions.insert(len(predictions.columns), 'arousal_true', test_data['arousal'])\n",
    "    predictions.insert(len(predictions.columns), 'valence_true', test_data['valence'])\n",
    "    \n",
    "    list_predictions.append(predictions)\n",
    "    \n",
    "    evaluations = multi_predictor.evaluate(test_data)\n",
    "    print(evaluations)\n",
    "    \n",
    "evaluation_dataframe = pd.DataFrame({'subjectID': subjectID, 'videoID': videoID, 'arousal_rmse': arousal_rmse, 'valence_rmse': valence_rmse})\n",
    "evaluation_dataframe.to_csv(f'AutogluonModels/scenario_1/output/comparison_raw_multi_label_flip_rmse.csv')\n",
    "pd.concat(list_predictions, axis=0).to_csv(f'AutogluonModels/scenario_1/output/comparison_raw_multi_label_flip_predictions.csv')"
   ]
  },
  {
   "cell_type": "markdown",
   "id": "853f65ab-be1a-430d-9f44-8b97dc20045e",
   "metadata": {},
   "source": [
    "### training on preprocessed data"
   ]
  }
 ],
 "metadata": {
  "kernelspec": {
   "display_name": "Python 3 (ipykernel)",
   "language": "python",
   "name": "python3"
  },
  "language_info": {
   "codemirror_mode": {
    "name": "ipython",
    "version": 3
   },
   "file_extension": ".py",
   "mimetype": "text/x-python",
   "name": "python",
   "nbconvert_exporter": "python",
   "pygments_lexer": "ipython3",
   "version": "3.10.10"
  }
 },
 "nbformat": 4,
 "nbformat_minor": 5
}
